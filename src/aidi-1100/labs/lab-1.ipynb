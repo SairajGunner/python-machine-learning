{
 "cells": [
  {
   "cell_type": "code",
   "execution_count": 22,
   "metadata": {},
   "outputs": [],
   "source": [
    "class Pizza():\n",
    "    sizes = [\"small\", \"medium\", \"large\", \"x-large\"]\n",
    "    default_prices = [6.49, 8.49, 10.49, 13.49]\n",
    "    size = \"medium\"\n",
    "    toppings = []\n",
    "    price = 0\n",
    "\n",
    "    def __init__(self, size=\"medium\", toppings=[\"cheese\"]):\n",
    "        if size in self.sizes:\n",
    "                self.size = size\n",
    "        else:\n",
    "             raise ValueError\n",
    "        self.toppings = toppings\n",
    "        self.calculate_price()\n",
    "\n",
    "    def __str__(self):\n",
    "     return f\"{self.size} pizza with {self.toppings} for {self.price}\"\n",
    "\n",
    "    @property\n",
    "    def size(self):\n",
    "        return self._size\n",
    "\n",
    "    @size.setter\n",
    "    def size(self, value):\n",
    "        if value in self.sizes:\n",
    "            self._size = value\n",
    "            self.calculate_price()\n",
    "        else:\n",
    "            raise ValueError(f\"ERROR: {value} is not a valid size for a pizza\")\n",
    "\n",
    "    def add(self, toppings):\n",
    "        self.toppings.extend(toppings)\n",
    "        self.calculate_price()\n",
    "\n",
    "    def calculate_price(self):\n",
    "         self.price = self.default_prices[self.sizes.index(self.size)] + (len(self.toppings) * 0.5)"
   ]
  },
  {
   "cell_type": "code",
   "execution_count": 23,
   "metadata": {},
   "outputs": [
    {
     "name": "stdout",
     "output_type": "stream",
     "text": [
      "Creating a default pizza\n",
      "medium pizza with ['cheese'] for 8.99\n"
     ]
    }
   ],
   "source": [
    "print(f'Creating a default pizza')\n",
    "p = Pizza()\n",
    "print(p)"
   ]
  },
  {
   "cell_type": "code",
   "execution_count": 24,
   "metadata": {},
   "outputs": [
    {
     "name": "stdout",
     "output_type": "stream",
     "text": [
      "\n",
      "Adding topping: ['cheese', 'olive']\n",
      "medium pizza with ['cheese', 'cheese', 'olive'] for 9.99\n"
     ]
    }
   ],
   "source": [
    "toppings = 'cheese olive'.split()\n",
    "print(f'\\nAdding topping: {toppings}')\n",
    "p.add(toppings=toppings)\n",
    "print(p)"
   ]
  },
  {
   "cell_type": "code",
   "execution_count": 25,
   "metadata": {},
   "outputs": [
    {
     "name": "stdout",
     "output_type": "stream",
     "text": [
      "\n",
      "Creating a new pizza\n",
      "large pizza with ['cheese', 'pepper'] for 11.49\n"
     ]
    }
   ],
   "source": [
    "print(f'\\nCreating a new pizza')\n",
    "p = Pizza('large', 'cheese pepper'.split())\n",
    "print(p)"
   ]
  },
  {
   "cell_type": "code",
   "execution_count": 26,
   "metadata": {},
   "outputs": [
    {
     "name": "stdout",
     "output_type": "stream",
     "text": [
      "\n",
      "Adding topping: ['pineapple', 'mushroom']\n",
      "large pizza with ['cheese', 'pepper', 'pineapple', 'mushroom'] for 12.49\n"
     ]
    }
   ],
   "source": [
    "toppings = ['pineapple', 'mushroom']\n",
    "print(f'\\nAdding topping: {toppings}')\n",
    "p.add(toppings)\n",
    "print(p)"
   ]
  },
  {
   "cell_type": "code",
   "execution_count": 27,
   "metadata": {},
   "outputs": [
    {
     "name": "stdout",
     "output_type": "stream",
     "text": [
      "\n",
      "Changing order size to x-large\n",
      "x-large pizza with ['cheese', 'pepper', 'pineapple', 'mushroom'] for 15.49\n"
     ]
    }
   ],
   "source": [
    "size = 'x-large'\n",
    "p.size = size\n",
    "print(f'\\nChanging order size to {size}')\n",
    "print(p)"
   ]
  },
  {
   "cell_type": "code",
   "execution_count": 28,
   "metadata": {},
   "outputs": [
    {
     "name": "stdout",
     "output_type": "stream",
     "text": [
      "\n",
      "Changing order size to gigantic\n",
      "ERROR: gigantic is not a valid size for a pizza\n"
     ]
    }
   ],
   "source": [
    "size = 'gigantic'\n",
    "print(f'\\nChanging order size to {size}')\n",
    "try:\n",
    "  p.size = size\n",
    "except ValueError as err:\n",
    "  print(err)"
   ]
  }
 ],
 "metadata": {
  "kernelspec": {
   "display_name": ".venv",
   "language": "python",
   "name": "python3"
  },
  "language_info": {
   "codemirror_mode": {
    "name": "ipython",
    "version": 3
   },
   "file_extension": ".py",
   "mimetype": "text/x-python",
   "name": "python",
   "nbconvert_exporter": "python",
   "pygments_lexer": "ipython3",
   "version": "3.11.4"
  }
 },
 "nbformat": 4,
 "nbformat_minor": 2
}
