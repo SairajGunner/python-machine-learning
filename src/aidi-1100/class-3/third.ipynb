{
 "cells": [
  {
   "cell_type": "code",
   "execution_count": 4,
   "metadata": {},
   "outputs": [
    {
     "name": "stdout",
     "output_type": "stream",
     "text": [
      "My encrypted Student ID is 10111.542!\n"
     ]
    }
   ],
   "source": [
    "def encryptStudentId(std_id):\n",
    "    std_id /= 10000\n",
    "    std_id += 25\n",
    "    return std_id\n",
    "\n",
    "print(f\"My encrypted Student ID is {encryptStudentId(100865420)}!\")"
   ]
  }
 ],
 "metadata": {
  "kernelspec": {
   "display_name": ".venv",
   "language": "python",
   "name": "python3"
  },
  "language_info": {
   "codemirror_mode": {
    "name": "ipython",
    "version": 3
   },
   "file_extension": ".py",
   "mimetype": "text/x-python",
   "name": "python",
   "nbconvert_exporter": "python",
   "pygments_lexer": "ipython3",
   "version": "3.11.4"
  },
  "orig_nbformat": 4
 },
 "nbformat": 4,
 "nbformat_minor": 2
}
