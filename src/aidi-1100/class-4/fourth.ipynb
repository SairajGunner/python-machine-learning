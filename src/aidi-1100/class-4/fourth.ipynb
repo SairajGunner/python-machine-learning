{
 "cells": [
  {
   "cell_type": "code",
   "execution_count": 6,
   "metadata": {},
   "outputs": [],
   "source": [
    "f = open(\"data.csv\", \"r\")"
   ]
  },
  {
   "cell_type": "code",
   "execution_count": 7,
   "metadata": {},
   "outputs": [
    {
     "data": {
      "text/plain": [
       "'1,88F7B33d2bcf9f5,Shelby,Terrell,Male,elijah57@example.net,001-084-906-7849x73518,1945-10-26,Games developer\\n'"
      ]
     },
     "execution_count": 7,
     "metadata": {},
     "output_type": "execute_result"
    }
   ],
   "source": [
    "line = f.readline()\n",
    "line"
   ]
  },
  {
   "cell_type": "code",
   "execution_count": 8,
   "metadata": {},
   "outputs": [
    {
     "data": {
      "text/plain": [
       "'2,f90cD3E76f1A9b9,Phillip,Summers,Female,bethany14@example.com,214.112.6044x4913,1910-03-24,Phytotherapist\\n'"
      ]
     },
     "execution_count": 8,
     "metadata": {},
     "output_type": "execute_result"
    }
   ],
   "source": [
    "line = f.readline()\n",
    "line"
   ]
  },
  {
   "cell_type": "code",
   "execution_count": 11,
   "metadata": {},
   "outputs": [
    {
     "data": {
      "text/plain": [
       "['2',\n",
       " 'f90cD3E76f1A9b9',\n",
       " 'Phillip',\n",
       " 'Summers',\n",
       " 'Female',\n",
       " 'bethany14@example.com',\n",
       " '214.112.6044x4913',\n",
       " '1910-03-24',\n",
       " 'Phytotherapist\\n']"
      ]
     },
     "execution_count": 11,
     "metadata": {},
     "output_type": "execute_result"
    }
   ],
   "source": [
    "x = line.split(\",\")\n",
    "x"
   ]
  },
  {
   "cell_type": "code",
   "execution_count": 12,
   "metadata": {},
   "outputs": [
    {
     "data": {
      "text/plain": [
       "list"
      ]
     },
     "execution_count": 12,
     "metadata": {},
     "output_type": "execute_result"
    }
   ],
   "source": [
    "type(x)"
   ]
  },
  {
   "cell_type": "code",
   "execution_count": 13,
   "metadata": {},
   "outputs": [
    {
     "data": {
      "text/plain": [
       "'bethany14@example.com'"
      ]
     },
     "execution_count": 13,
     "metadata": {},
     "output_type": "execute_result"
    }
   ],
   "source": [
    "x[5]"
   ]
  },
  {
   "cell_type": "code",
   "execution_count": 14,
   "metadata": {},
   "outputs": [
    {
     "data": {
      "text/plain": [
       "'bethany14@example.com'"
      ]
     },
     "execution_count": 14,
     "metadata": {},
     "output_type": "execute_result"
    }
   ],
   "source": [
    "x[-4]"
   ]
  },
  {
   "cell_type": "code",
   "execution_count": 16,
   "metadata": {},
   "outputs": [
    {
     "data": {
      "text/plain": [
       "['elijah57@example.net',\n",
       " 'bethany14@example.com',\n",
       " 'bthompson@example.com',\n",
       " 'kaitlinkaiser@example.com',\n",
       " 'buchananmanuel@example.net',\n",
       " 'tconner@example.org',\n",
       " 'conniecowan@example.com',\n",
       " 'wyattbishop@example.com',\n",
       " 'nmccann@example.net',\n",
       " 'virginiaterrell@example.org',\n",
       " 'huangcathy@example.com',\n",
       " 'rayleroy@example.org',\n",
       " 'jefferynoble@example.org',\n",
       " 'mercedes44@example.com',\n",
       " 'pmiranda@example.org',\n",
       " 'braunpriscilla@example.net',\n",
       " 'sheenabanks@example.com',\n",
       " 'gbrewer@example.org',\n",
       " 'gilbertdonaldson@example.com',\n",
       " 'jcortez@example.com',\n",
       " 'carias@example.net',\n",
       " 'fknox@example.org',\n",
       " 'huangbill@example.org',\n",
       " 'juarezdominique@example.net',\n",
       " 'cassandramorris@example.com',\n",
       " 'sallymiller@example.net',\n",
       " 'bsullivan@example.net',\n",
       " 'ayalajose@example.net',\n",
       " 'irosales@example.net',\n",
       " 'mconrad@example.com',\n",
       " 'jimblake@example.org',\n",
       " 'nsampson@example.net',\n",
       " 'caitlin24@example.net',\n",
       " 'mconley@example.net',\n",
       " 'reynoldsdarryl@example.net',\n",
       " 'jeannovak@example.org',\n",
       " 'clinton78@example.org',\n",
       " 'luisdeleon@example.org',\n",
       " 'rosariodave@example.org',\n",
       " 'vickihouston@example.com',\n",
       " 'evelyn31@example.org',\n",
       " 'stephenfuller@example.org',\n",
       " 'haleymathews@example.net',\n",
       " 'tyrone56@example.org',\n",
       " 'lhernandez@example.com',\n",
       " 'molly03@example.org',\n",
       " 'jvang@example.org',\n",
       " 'erikmueller@example.org',\n",
       " 'rivasdominique@example.org',\n",
       " 'daisymcgee@example.net',\n",
       " 'staffordtravis@example.net',\n",
       " 'saralong@example.net',\n",
       " 'iphelps@example.net',\n",
       " 'roberto29@example.com',\n",
       " 'yolanda07@example.org',\n",
       " 'abbottyvette@example.net',\n",
       " 'ochang@example.org',\n",
       " 'amyanderson@example.com',\n",
       " 'qnorman@example.org',\n",
       " 'clarkeangela@example.net',\n",
       " 'kalvarado@example.org',\n",
       " 'jodyvincent@example.org',\n",
       " 'hutchinsonkirk@example.com',\n",
       " 'floreschristina@example.org',\n",
       " 'nathan65@example.org',\n",
       " 'maria32@example.org',\n",
       " 'imccullough@example.com',\n",
       " 'corey92@example.com',\n",
       " 'daltoncalvin@example.net',\n",
       " 'ubanks@example.com',\n",
       " 'lopezdebbie@example.org',\n",
       " 'meagan39@example.net',\n",
       " 'kristina76@example.com',\n",
       " 'weissbridget@example.com',\n",
       " 'wpetersen@example.org',\n",
       " 'wongmary@example.org',\n",
       " 'gailfrench@example.net',\n",
       " 'vpaul@example.com',\n",
       " 'xpoole@example.net',\n",
       " 'cassandra80@example.org',\n",
       " 'johnathan72@example.org',\n",
       " 'nhall@example.net',\n",
       " 'erikaball@example.net',\n",
       " 'nixonvanessa@example.net',\n",
       " 'melvin08@example.net',\n",
       " 'oblake@example.com',\n",
       " 'johnnyhendricks@example.net',\n",
       " 'pbarron@example.net',\n",
       " 'olsenmalik@example.net',\n",
       " 'teresa37@example.com',\n",
       " 'zmiles@example.net',\n",
       " 'sheenadouglas@example.com',\n",
       " 'evan90@example.org',\n",
       " 'nicolas90@example.org',\n",
       " 'angelanavarro@example.net',\n",
       " 'bmartin@example.org',\n",
       " 'latasha46@example.net',\n",
       " 'regina11@example.org',\n",
       " 'alexiscantrell@example.org',\n",
       " 'pcopeland@example.org']"
      ]
     },
     "execution_count": 16,
     "metadata": {},
     "output_type": "execute_result"
    }
   ],
   "source": [
    "f.seek(0)\n",
    "\n",
    "email_ids = []\n",
    "\n",
    "for row in f:\n",
    "    email_ids.append(row.split(\",\")[5])\n",
    "\n",
    "email_ids"
   ]
  },
  {
   "cell_type": "code",
   "execution_count": 18,
   "metadata": {},
   "outputs": [
    {
     "data": {
      "text/plain": [
       "['elijah57@example.net',\n",
       " 'bethany14@example.com',\n",
       " 'bthompson@example.com',\n",
       " 'kaitlinkaiser@example.com',\n",
       " 'buchananmanuel@example.net',\n",
       " 'tconner@example.org',\n",
       " 'conniecowan@example.com',\n",
       " 'wyattbishop@example.com',\n",
       " 'nmccann@example.net',\n",
       " 'virginiaterrell@example.org',\n",
       " 'huangcathy@example.com',\n",
       " 'rayleroy@example.org',\n",
       " 'jefferynoble@example.org',\n",
       " 'mercedes44@example.com',\n",
       " 'pmiranda@example.org',\n",
       " 'braunpriscilla@example.net',\n",
       " 'sheenabanks@example.com',\n",
       " 'gbrewer@example.org',\n",
       " 'gilbertdonaldson@example.com',\n",
       " 'jcortez@example.com',\n",
       " 'carias@example.net',\n",
       " 'fknox@example.org',\n",
       " 'huangbill@example.org',\n",
       " 'juarezdominique@example.net',\n",
       " 'cassandramorris@example.com',\n",
       " 'sallymiller@example.net',\n",
       " 'bsullivan@example.net',\n",
       " 'ayalajose@example.net',\n",
       " 'irosales@example.net',\n",
       " 'mconrad@example.com',\n",
       " 'jimblake@example.org',\n",
       " 'nsampson@example.net',\n",
       " 'caitlin24@example.net',\n",
       " 'mconley@example.net',\n",
       " 'reynoldsdarryl@example.net',\n",
       " 'jeannovak@example.org',\n",
       " 'clinton78@example.org',\n",
       " 'luisdeleon@example.org',\n",
       " 'rosariodave@example.org',\n",
       " 'vickihouston@example.com',\n",
       " 'evelyn31@example.org',\n",
       " 'stephenfuller@example.org',\n",
       " 'haleymathews@example.net',\n",
       " 'tyrone56@example.org',\n",
       " 'lhernandez@example.com',\n",
       " 'molly03@example.org',\n",
       " 'jvang@example.org',\n",
       " 'erikmueller@example.org',\n",
       " 'rivasdominique@example.org',\n",
       " 'daisymcgee@example.net',\n",
       " 'staffordtravis@example.net',\n",
       " 'saralong@example.net',\n",
       " 'iphelps@example.net',\n",
       " 'roberto29@example.com',\n",
       " 'yolanda07@example.org',\n",
       " 'abbottyvette@example.net',\n",
       " 'ochang@example.org',\n",
       " 'amyanderson@example.com',\n",
       " 'qnorman@example.org',\n",
       " 'clarkeangela@example.net',\n",
       " 'kalvarado@example.org',\n",
       " 'jodyvincent@example.org',\n",
       " 'hutchinsonkirk@example.com',\n",
       " 'floreschristina@example.org',\n",
       " 'nathan65@example.org',\n",
       " 'maria32@example.org',\n",
       " 'imccullough@example.com',\n",
       " 'corey92@example.com',\n",
       " 'daltoncalvin@example.net',\n",
       " 'ubanks@example.com',\n",
       " 'lopezdebbie@example.org',\n",
       " 'meagan39@example.net',\n",
       " 'kristina76@example.com',\n",
       " 'weissbridget@example.com',\n",
       " 'wpetersen@example.org',\n",
       " 'wongmary@example.org',\n",
       " 'gailfrench@example.net',\n",
       " 'vpaul@example.com',\n",
       " 'xpoole@example.net',\n",
       " 'cassandra80@example.org',\n",
       " 'johnathan72@example.org',\n",
       " 'nhall@example.net',\n",
       " 'erikaball@example.net',\n",
       " 'nixonvanessa@example.net',\n",
       " 'melvin08@example.net',\n",
       " 'oblake@example.com',\n",
       " 'johnnyhendricks@example.net',\n",
       " 'pbarron@example.net',\n",
       " 'olsenmalik@example.net',\n",
       " 'teresa37@example.com',\n",
       " 'zmiles@example.net',\n",
       " 'sheenadouglas@example.com',\n",
       " 'evan90@example.org',\n",
       " 'nicolas90@example.org',\n",
       " 'angelanavarro@example.net',\n",
       " 'bmartin@example.org',\n",
       " 'latasha46@example.net',\n",
       " 'regina11@example.org',\n",
       " 'alexiscantrell@example.org',\n",
       " 'pcopeland@example.org']"
      ]
     },
     "execution_count": 18,
     "metadata": {},
     "output_type": "execute_result"
    }
   ],
   "source": [
    "f.seek(0)\n",
    "email_ids = [row.split(\",\")[5] for row in f]\n",
    "email_ids"
   ]
  }
 ],
 "metadata": {
  "kernelspec": {
   "display_name": ".venv",
   "language": "python",
   "name": "python3"
  },
  "language_info": {
   "codemirror_mode": {
    "name": "ipython",
    "version": 3
   },
   "file_extension": ".py",
   "mimetype": "text/x-python",
   "name": "python",
   "nbconvert_exporter": "python",
   "pygments_lexer": "ipython3",
   "version": "3.11.4"
  },
  "orig_nbformat": 4
 },
 "nbformat": 4,
 "nbformat_minor": 2
}
