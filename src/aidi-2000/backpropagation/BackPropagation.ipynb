{
  "nbformat": 4,
  "nbformat_minor": 0,
  "metadata": {
    "colab": {
      "provenance": []
    },
    "kernelspec": {
      "name": "python3",
      "display_name": "Python 3"
    },
    "language_info": {
      "name": "python"
    }
  },
  "cells": [
    {
      "cell_type": "code",
      "execution_count": 1,
      "metadata": {
        "id": "fI-h7dr1qpBK"
      },
      "outputs": [],
      "source": [
        "import numpy as np\n",
        "import matplotlib.pyplot as plt"
      ]
    },
    {
      "cell_type": "code",
      "source": [
        "m = 2.5\n",
        "c = 3.5\n",
        "X = np.arange(-20, 20, 0.5)\n",
        "y = m*X + c + np.random.normal(0, 8.5, len(X))"
      ],
      "metadata": {
        "id": "yDSqB4qrq1T9"
      },
      "execution_count": 2,
      "outputs": []
    },
    {
      "cell_type": "code",
      "source": [
        "plt.scatter(X, y)"
      ],
      "metadata": {
        "colab": {
          "base_uri": "https://localhost:8080/",
          "height": 449
        },
        "id": "70oTgELZrFQR",
        "outputId": "4a3a4011-ea85-4e20-f7bc-fa09291ffae7"
      },
      "execution_count": 3,
      "outputs": [
        {
          "output_type": "execute_result",
          "data": {
            "text/plain": [
              "<matplotlib.collections.PathCollection at 0x78bb93fe6920>"
            ]
          },
          "metadata": {},
          "execution_count": 3
        },
        {
          "output_type": "display_data",
          "data": {
            "text/plain": [
              "<Figure size 640x480 with 1 Axes>"
            ],
            "image/png": "[encoded data removed]"
          },
          "metadata": {}
        }
      ]
    },
    {
      "cell_type": "code",
      "source": [
        "w1 = 0.3\n",
        "w2 = 0.4"
      ],
      "metadata": {
        "id": "_5_ObI1UsEgI"
      },
      "execution_count": 4,
      "outputs": []
    },
    {
      "cell_type": "code",
      "source": [
        "sigmoid = lambda x: 1 / (1 + np.exp(-x))"
      ],
      "metadata": {
        "id": "LKWyXitnsKty"
      },
      "execution_count": 55,
      "outputs": []
    },
    {
      "cell_type": "code",
      "source": [
        "h_in = X * w1\n",
        "h_out = sigmoid(h_in)\n",
        "o_in = h_out * w2\n",
        "o_out = o_in\n",
        "cost = (sum(y - o_out)**2) / len(X)\n",
        "cost"
      ],
      "metadata": {
        "colab": {
          "base_uri": "https://localhost:8080/"
        },
        "id": "7xWrg-Dtr4TL",
        "outputId": "6aa8c609-5621-47fc-c8dd-7675fcaa5855"
      },
      "execution_count": 6,
      "outputs": [
        {
          "output_type": "execute_result",
          "data": {
            "text/plain": [
              "920.3185372947559"
            ]
          },
          "metadata": {},
          "execution_count": 6
        }
      ]
    },
    {
      "cell_type": "code",
      "source": [
        "d_o_out = sum(o_out - y)\n",
        "d_w2 = sum(d_o_out * h_out) / len(X)\n",
        "d_w2"
      ],
      "metadata": {
        "colab": {
          "base_uri": "https://localhost:8080/"
        },
        "id": "7MolNTp3tPvT",
        "outputId": "ccf9789b-7348-4c92-8dcd-cc981c586fec"
      },
      "execution_count": 7,
      "outputs": [
        {
          "output_type": "execute_result",
          "data": {
            "text/plain": [
              "-133.97420451172678"
            ]
          },
          "metadata": {},
          "execution_count": 7
        }
      ]
    },
    {
      "cell_type": "code",
      "source": [
        "d_w1 = sum((o_out - y) * w2 * h_out * (1-h_out) * X) / len(X)\n",
        "d_w1"
      ],
      "metadata": {
        "colab": {
          "base_uri": "https://localhost:8080/"
        },
        "id": "DaKwDqe3v7EH",
        "outputId": "fd36c9f2-76e1-4705-905e-17950f3bcaa5"
      },
      "execution_count": 8,
      "outputs": [
        {
          "output_type": "execute_result",
          "data": {
            "text/plain": [
              "-0.046060166144723455"
            ]
          },
          "metadata": {},
          "execution_count": 8
        }
      ]
    },
    {
      "cell_type": "code",
      "source": [
        "LR = 0.01"
      ],
      "metadata": {
        "id": "8XW12xqbwf6f"
      },
      "execution_count": 9,
      "outputs": []
    },
    {
      "cell_type": "code",
      "source": [
        "w1 = w1 - LR * d_w1\n",
        "w2 = w2 - LR * d_w2\n",
        "\n",
        "print(w1, w2)"
      ],
      "metadata": {
        "colab": {
          "base_uri": "https://localhost:8080/"
        },
        "id": "u9GJnRJqwkXk",
        "outputId": "0db767e6-c532-4aaa-c20a-407992502b1e"
      },
      "execution_count": 10,
      "outputs": [
        {
          "output_type": "stream",
          "name": "stdout",
          "text": [
            "0.3004606016614472 1.7397420451172678\n"
          ]
        }
      ]
    },
    {
      "cell_type": "code",
      "source": [
        "h_in = X * w1\n",
        "h_out = sigmoid(h_in)\n",
        "o_in = h_out * w2\n",
        "o_out = o_in\n",
        "cost = (sum(y - o_out)**2) / len(X)\n",
        "\n",
        "d_o_out = sum(o_out - y)\n",
        "d_w2 = sum(d_o_out * h_out) / len(X)\n",
        "d_w1 = sum((o_out - y) * w2 * h_out * (1-h_out) * X) / len(X)\n",
        "\n",
        "w1 = w1 - LR * d_w1\n",
        "w2 = w2 - LR * d_w2\n",
        "\n",
        "print(cost)"
      ],
      "metadata": {
        "colab": {
          "base_uri": "https://localhost:8080/"
        },
        "id": "macwEWoVympt",
        "outputId": "f9367fac-d830-4f7e-e12c-8c0a8324c432"
      },
      "execution_count": 48,
      "outputs": [
        {
          "output_type": "stream",
          "name": "stdout",
          "text": [
            "9.808118559134645e-05\n"
          ]
        }
      ]
    },
    {
      "cell_type": "code",
      "source": [
        "x_ = -5\n",
        "plt.scatter(X, y)\n",
        "y_ = sigmoid(x_ * w1) * w2\n",
        "plt.scatter(x_, y_, c='r')"
      ],
      "metadata": {
        "colab": {
          "base_uri": "https://localhost:8080/",
          "height": 449
        },
        "id": "84qTbHk80F08",
        "outputId": "d37bd46d-94e7-403f-a075-71a0946e4146"
      },
      "execution_count": 57,
      "outputs": [
        {
          "output_type": "execute_result",
          "data": {
            "text/plain": [
              "<matplotlib.collections.PathCollection at 0x78bb60967280>"
            ]
          },
          "metadata": {},
          "execution_count": 57
        },
        {
          "output_type": "display_data",
          "data": {
            "text/plain": [
              "<Figure size 640x480 with 1 Axes>"
            ],
            "image/png": "[encoded data removed]"
          },
          "metadata": {}
        }
      ]
    }
  ]
}