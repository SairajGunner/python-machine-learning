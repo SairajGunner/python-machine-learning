{
  "cells": [
    {
      "cell_type": "code",
      "execution_count": 1,
      "metadata": {
        "id": "82OpITjzSreG"
      },
      "outputs": [
        {
          "name": "stderr",
          "output_type": "stream",
          "text": [
            "2024-02-29 21:12:43.935167: I tensorflow/core/util/port.cc:113] oneDNN custom operations are on. You may see slightly different numerical results due to floating-point round-off errors from different computation orders. To turn them off, set the environment variable `TF_ENABLE_ONEDNN_OPTS=0`.\n",
            "2024-02-29 21:12:43.960131: E external/local_xla/xla/stream_executor/cuda/cuda_dnn.cc:9261] Unable to register cuDNN factory: Attempting to register factory for plugin cuDNN when one has already been registered\n",
            "2024-02-29 21:12:43.960166: E external/local_xla/xla/stream_executor/cuda/cuda_fft.cc:607] Unable to register cuFFT factory: Attempting to register factory for plugin cuFFT when one has already been registered\n",
            "2024-02-29 21:12:43.960864: E external/local_xla/xla/stream_executor/cuda/cuda_blas.cc:1515] Unable to register cuBLAS factory: Attempting to register factory for plugin cuBLAS when one has already been registered\n",
            "2024-02-29 21:12:43.965810: I tensorflow/core/platform/cpu_feature_guard.cc:182] This TensorFlow binary is optimized to use available CPU instructions in performance-critical operations.\n",
            "To enable the following instructions: AVX2 AVX_VNNI FMA, in other operations, rebuild TensorFlow with the appropriate compiler flags.\n",
            "2024-02-29 21:12:44.400045: W tensorflow/compiler/tf2tensorrt/utils/py_utils.cc:38] TF-TRT Warning: Could not find TensorRT\n"
          ]
        }
      ],
      "source": [
        "import tensorflow as tf\n",
        "import pandas as pd\n",
        "import numpy as np\n",
        "import matplotlib.pyplot as plt\n",
        "import seaborn as sns"
      ]
    },
    {
      "cell_type": "code",
      "execution_count": 2,
      "metadata": {
        "colab": {
          "base_uri": "https://localhost:8080/"
        },
        "id": "C7HV7WNITU_y",
        "outputId": "8ea2ed6a-9a1f-40f3-930d-afc8b5392ab3"
      },
      "outputs": [
        {
          "name": "stderr",
          "output_type": "stream",
          "text": [
            "2024-02-29 21:12:45.287956: I external/local_xla/xla/stream_executor/cuda/cuda_executor.cc:887] could not open file to read NUMA node: /sys/bus/pci/devices/0000:01:00.0/numa_node\n",
            "Your kernel may have been built without NUMA support.\n",
            "2024-02-29 21:12:45.313549: I external/local_xla/xla/stream_executor/cuda/cuda_executor.cc:887] could not open file to read NUMA node: /sys/bus/pci/devices/0000:01:00.0/numa_node\n",
            "Your kernel may have been built without NUMA support.\n",
            "2024-02-29 21:12:45.313606: I external/local_xla/xla/stream_executor/cuda/cuda_executor.cc:887] could not open file to read NUMA node: /sys/bus/pci/devices/0000:01:00.0/numa_node\n",
            "Your kernel may have been built without NUMA support.\n"
          ]
        },
        {
          "data": {
            "text/plain": [
              "[PhysicalDevice(name='/physical_device:GPU:0', device_type='GPU')]"
            ]
          },
          "execution_count": 2,
          "metadata": {},
          "output_type": "execute_result"
        }
      ],
      "source": [
        "tf.config.list_physical_devices('GPU')"
      ]
    },
    {
      "cell_type": "code",
      "execution_count": 3,
      "metadata": {
        "id": "9vWxM6mCTf4Z"
      },
      "outputs": [],
      "source": [
        "df = pd.read_csv(\"song_features 1.csv\")"
      ]
    },
    {
      "cell_type": "code",
      "execution_count": 4,
      "metadata": {
        "colab": {
          "base_uri": "https://localhost:8080/"
        },
        "id": "NzmKlx8OUKVk",
        "outputId": "c6a28ae9-c086-4652-ad46-b37645b81f54"
      },
      "outputs": [
        {
          "data": {
            "text/plain": [
              "(375141, 14)"
            ]
          },
          "execution_count": 4,
          "metadata": {},
          "output_type": "execute_result"
        }
      ],
      "source": [
        "df.shape"
      ]
    },
    {
      "cell_type": "code",
      "execution_count": 5,
      "metadata": {
        "colab": {
          "base_uri": "https://localhost:8080/"
        },
        "id": "7QUpwjpRUR1D",
        "outputId": "5cb1882f-1a52-4018-df3f-49f1d8eb8481"
      },
      "outputs": [
        {
          "data": {
            "text/plain": [
              "Index(['duration_ms', 'acousticness', 'danceability', 'energy',\n",
              "       'instrumentalness', 'liveness', 'loudness', 'tempo', 'speechiness',\n",
              "       'valence', 'key', 'mode', 'time_signature', 'track_popularity'],\n",
              "      dtype='object')"
            ]
          },
          "execution_count": 5,
          "metadata": {},
          "output_type": "execute_result"
        }
      ],
      "source": [
        "df.columns"
      ]
    },
    {
      "cell_type": "code",
      "execution_count": 6,
      "metadata": {},
      "outputs": [],
      "source": [
        "df.drop(columns=['duration_ms', 'key', 'mode', 'time_signature'], inplace=True)"
      ]
    },
    {
      "cell_type": "code",
      "execution_count": 7,
      "metadata": {},
      "outputs": [
        {
          "data": {
            "text/plain": [
              "Index(['acousticness', 'danceability', 'energy', 'instrumentalness',\n",
              "       'liveness', 'loudness', 'tempo', 'speechiness', 'valence',\n",
              "       'track_popularity'],\n",
              "      dtype='object')"
            ]
          },
          "execution_count": 7,
          "metadata": {},
          "output_type": "execute_result"
        }
      ],
      "source": [
        "df.columns"
      ]
    },
    {
      "cell_type": "code",
      "execution_count": 8,
      "metadata": {
        "colab": {
          "base_uri": "https://localhost:8080/"
        },
        "id": "7BcSrmGafarZ",
        "outputId": "150f0b86-0b44-4ef1-de6b-3e5c75998095"
      },
      "outputs": [
        {
          "name": "stdout",
          "output_type": "stream",
          "text": [
            "<class 'pandas.core.frame.DataFrame'>\n",
            "RangeIndex: 375141 entries, 0 to 375140\n",
            "Data columns (total 10 columns):\n",
            " #   Column            Non-Null Count   Dtype  \n",
            "---  ------            --------------   -----  \n",
            " 0   acousticness      374364 non-null  float64\n",
            " 1   danceability      374364 non-null  float64\n",
            " 2   energy            374364 non-null  float64\n",
            " 3   instrumentalness  374364 non-null  float64\n",
            " 4   liveness          374364 non-null  float64\n",
            " 5   loudness          374364 non-null  float64\n",
            " 6   tempo             374364 non-null  float64\n",
            " 7   speechiness       374364 non-null  float64\n",
            " 8   valence           374364 non-null  float64\n",
            " 9   track_popularity  375131 non-null  float64\n",
            "dtypes: float64(10)\n",
            "memory usage: 28.6 MB\n"
          ]
        }
      ],
      "source": [
        "df.info()"
      ]
    },
    {
      "cell_type": "code",
      "execution_count": 9,
      "metadata": {},
      "outputs": [],
      "source": [
        "df = df"
      ]
    },
    {
      "cell_type": "code",
      "execution_count": 10,
      "metadata": {},
      "outputs": [
        {
          "data": {
            "text/plain": [
              "(375141, 10)"
            ]
          },
          "execution_count": 10,
          "metadata": {},
          "output_type": "execute_result"
        }
      ],
      "source": [
        "df.shape"
      ]
    },
    {
      "cell_type": "code",
      "execution_count": 11,
      "metadata": {
        "colab": {
          "base_uri": "https://localhost:8080/"
        },
        "id": "kCtwcRUCYrKx",
        "outputId": "8f4bb134-41b8-4855-f65e-80baec79133e"
      },
      "outputs": [
        {
          "data": {
            "text/plain": [
              "(375141, 10)"
            ]
          },
          "execution_count": 11,
          "metadata": {},
          "output_type": "execute_result"
        }
      ],
      "source": [
        "df.shape"
      ]
    },
    {
      "cell_type": "code",
      "execution_count": 12,
      "metadata": {
        "colab": {
          "base_uri": "https://localhost:8080/"
        },
        "id": "hTh4Re16YvBA",
        "outputId": "dc18de8c-a57b-4f79-851a-29f54fc97778"
      },
      "outputs": [
        {
          "data": {
            "text/plain": [
              "Index(['acousticness', 'danceability', 'energy', 'instrumentalness',\n",
              "       'liveness', 'loudness', 'tempo', 'speechiness', 'valence',\n",
              "       'track_popularity'],\n",
              "      dtype='object')"
            ]
          },
          "execution_count": 12,
          "metadata": {},
          "output_type": "execute_result"
        }
      ],
      "source": [
        "df.columns"
      ]
    },
    {
      "cell_type": "code",
      "execution_count": 13,
      "metadata": {
        "id": "ZnEGmws6aaWL"
      },
      "outputs": [],
      "source": [
        "from sklearn.preprocessing import StandardScaler"
      ]
    },
    {
      "cell_type": "code",
      "execution_count": 14,
      "metadata": {
        "id": "UTBlJ9hWahv3"
      },
      "outputs": [],
      "source": [
        "scaler = StandardScaler()"
      ]
    },
    {
      "cell_type": "code",
      "execution_count": 15,
      "metadata": {
        "colab": {
          "base_uri": "https://localhost:8080/"
        },
        "id": "ucl_3r77ajgh",
        "outputId": "e9f2ce5c-7b51-45ed-b27e-4bd1617cc56d"
      },
      "outputs": [
        {
          "data": {
            "text/plain": [
              "array([[-0.98919525,  0.26030728,  0.11050252, ...,  1.82595461,\n",
              "        -0.27018335, -0.65713081],\n",
              "       [-1.04294505,  1.7119707 ,  0.66696411, ...,  0.13147798,\n",
              "        -0.97979705, -0.59316569],\n",
              "       [-0.84716209,  1.09881322,  0.7237459 , ...,  1.62949355,\n",
              "         1.4306368 , -0.59316569],\n",
              "       ...,\n",
              "       [-1.06046248,  0.08736543,  1.06065122, ..., -0.53587568,\n",
              "         0.51452175,  3.05284639],\n",
              "       [-0.72880112,  0.04544013, -0.21126099, ..., -0.33450309,\n",
              "        -0.69444974, -0.20937494],\n",
              "       [-0.89311399,  0.42800847, -0.45352998, ..., -0.49658347,\n",
              "        -1.55950264,  2.22129977]])"
            ]
          },
          "execution_count": 15,
          "metadata": {},
          "output_type": "execute_result"
        }
      ],
      "source": [
        "scaled_df = scaler.fit_transform(df)\n",
        "scaled_df"
      ]
    },
    {
      "cell_type": "code",
      "execution_count": 16,
      "metadata": {
        "id": "rWn-jH9UcLgS"
      },
      "outputs": [],
      "source": [
        "df = df.dropna()"
      ]
    },
    {
      "cell_type": "code",
      "execution_count": 17,
      "metadata": {
        "id": "yqB-xMlTerZY"
      },
      "outputs": [],
      "source": [
        "scaled_df = pd.DataFrame(scaled_df, columns=['acousticness', 'danceability', 'energy', 'instrumentalness',\n",
        "       'liveness', 'loudness', 'tempo', 'speechiness', 'valence',\n",
        "       'track_popularity'])"
      ]
    },
    {
      "cell_type": "code",
      "execution_count": 18,
      "metadata": {},
      "outputs": [
        {
          "data": {
            "text/html": [
              "<div>\n",
              "<style scoped>\n",
              "    .dataframe tbody tr th:only-of-type {\n",
              "        vertical-align: middle;\n",
              "    }\n",
              "\n",
              "    .dataframe tbody tr th {\n",
              "        vertical-align: top;\n",
              "    }\n",
              "\n",
              "    .dataframe thead th {\n",
              "        text-align: right;\n",
              "    }\n",
              "</style>\n",
              "<table border=\"1\" class=\"dataframe\">\n",
              "  <thead>\n",
              "    <tr style=\"text-align: right;\">\n",
              "      <th></th>\n",
              "      <th>acousticness</th>\n",
              "      <th>danceability</th>\n",
              "      <th>energy</th>\n",
              "      <th>instrumentalness</th>\n",
              "      <th>liveness</th>\n",
              "      <th>loudness</th>\n",
              "      <th>tempo</th>\n",
              "      <th>speechiness</th>\n",
              "      <th>valence</th>\n",
              "      <th>track_popularity</th>\n",
              "    </tr>\n",
              "  </thead>\n",
              "  <tbody>\n",
              "    <tr>\n",
              "      <th>0</th>\n",
              "      <td>-0.989195</td>\n",
              "      <td>0.260307</td>\n",
              "      <td>0.110503</td>\n",
              "      <td>-0.697247</td>\n",
              "      <td>1.115849</td>\n",
              "      <td>0.266328</td>\n",
              "      <td>-1.510817</td>\n",
              "      <td>1.825955</td>\n",
              "      <td>-0.270183</td>\n",
              "      <td>-0.657131</td>\n",
              "    </tr>\n",
              "    <tr>\n",
              "      <th>1</th>\n",
              "      <td>-1.042945</td>\n",
              "      <td>1.711971</td>\n",
              "      <td>0.666964</td>\n",
              "      <td>-0.697250</td>\n",
              "      <td>-0.249617</td>\n",
              "      <td>0.773812</td>\n",
              "      <td>-0.559374</td>\n",
              "      <td>0.131478</td>\n",
              "      <td>-0.979797</td>\n",
              "      <td>-0.593166</td>\n",
              "    </tr>\n",
              "    <tr>\n",
              "      <th>2</th>\n",
              "      <td>-0.847162</td>\n",
              "      <td>1.098813</td>\n",
              "      <td>0.723746</td>\n",
              "      <td>-0.697250</td>\n",
              "      <td>-0.403875</td>\n",
              "      <td>0.451118</td>\n",
              "      <td>-0.618095</td>\n",
              "      <td>1.629494</td>\n",
              "      <td>1.430637</td>\n",
              "      <td>-0.593166</td>\n",
              "    </tr>\n",
              "    <tr>\n",
              "      <th>3</th>\n",
              "      <td>-1.062635</td>\n",
              "      <td>1.947800</td>\n",
              "      <td>0.216495</td>\n",
              "      <td>-0.697250</td>\n",
              "      <td>-0.574701</td>\n",
              "      <td>0.312144</td>\n",
              "      <td>-0.447009</td>\n",
              "      <td>1.107644</td>\n",
              "      <td>-0.758277</td>\n",
              "      <td>-0.657131</td>\n",
              "    </tr>\n",
              "    <tr>\n",
              "      <th>4</th>\n",
              "      <td>-1.038211</td>\n",
              "      <td>-0.237556</td>\n",
              "      <td>0.439837</td>\n",
              "      <td>-0.697250</td>\n",
              "      <td>-0.627263</td>\n",
              "      <td>0.011594</td>\n",
              "      <td>1.771868</td>\n",
              "      <td>3.766008</td>\n",
              "      <td>-0.277692</td>\n",
              "      <td>-0.657131</td>\n",
              "    </tr>\n",
              "    <tr>\n",
              "      <th>...</th>\n",
              "      <td>...</td>\n",
              "      <td>...</td>\n",
              "      <td>...</td>\n",
              "      <td>...</td>\n",
              "      <td>...</td>\n",
              "      <td>...</td>\n",
              "      <td>...</td>\n",
              "      <td>...</td>\n",
              "      <td>...</td>\n",
              "      <td>...</td>\n",
              "    </tr>\n",
              "    <tr>\n",
              "      <th>375136</th>\n",
              "      <td>-1.058652</td>\n",
              "      <td>-0.132742</td>\n",
              "      <td>1.072008</td>\n",
              "      <td>-0.696449</td>\n",
              "      <td>-0.788376</td>\n",
              "      <td>1.163549</td>\n",
              "      <td>0.696558</td>\n",
              "      <td>-0.471412</td>\n",
              "      <td>0.736041</td>\n",
              "      <td>1.581649</td>\n",
              "    </tr>\n",
              "    <tr>\n",
              "      <th>375137</th>\n",
              "      <td>1.170544</td>\n",
              "      <td>-1.039377</td>\n",
              "      <td>-0.078770</td>\n",
              "      <td>-0.697250</td>\n",
              "      <td>3.218323</td>\n",
              "      <td>0.434013</td>\n",
              "      <td>-0.315442</td>\n",
              "      <td>-0.475096</td>\n",
              "      <td>-0.690695</td>\n",
              "      <td>2.733021</td>\n",
              "    </tr>\n",
              "    <tr>\n",
              "      <th>375138</th>\n",
              "      <td>-1.060462</td>\n",
              "      <td>0.087365</td>\n",
              "      <td>1.060651</td>\n",
              "      <td>-0.697250</td>\n",
              "      <td>0.247435</td>\n",
              "      <td>1.098644</td>\n",
              "      <td>-0.185776</td>\n",
              "      <td>-0.535876</td>\n",
              "      <td>0.514522</td>\n",
              "      <td>3.052846</td>\n",
              "    </tr>\n",
              "    <tr>\n",
              "      <th>375139</th>\n",
              "      <td>-0.728801</td>\n",
              "      <td>0.045440</td>\n",
              "      <td>-0.211261</td>\n",
              "      <td>1.298867</td>\n",
              "      <td>0.967304</td>\n",
              "      <td>0.126591</td>\n",
              "      <td>-1.264985</td>\n",
              "      <td>-0.334503</td>\n",
              "      <td>-0.694450</td>\n",
              "      <td>-0.209375</td>\n",
              "    </tr>\n",
              "    <tr>\n",
              "      <th>375140</th>\n",
              "      <td>-0.893114</td>\n",
              "      <td>0.428008</td>\n",
              "      <td>-0.453530</td>\n",
              "      <td>-0.697247</td>\n",
              "      <td>-0.610123</td>\n",
              "      <td>0.457226</td>\n",
              "      <td>-0.347359</td>\n",
              "      <td>-0.496583</td>\n",
              "      <td>-1.559503</td>\n",
              "      <td>2.221300</td>\n",
              "    </tr>\n",
              "  </tbody>\n",
              "</table>\n",
              "<p>375141 rows × 10 columns</p>\n",
              "</div>"
            ],
            "text/plain": [
              "        acousticness  danceability    energy  instrumentalness  liveness  \\\n",
              "0          -0.989195      0.260307  0.110503         -0.697247  1.115849   \n",
              "1          -1.042945      1.711971  0.666964         -0.697250 -0.249617   \n",
              "2          -0.847162      1.098813  0.723746         -0.697250 -0.403875   \n",
              "3          -1.062635      1.947800  0.216495         -0.697250 -0.574701   \n",
              "4          -1.038211     -0.237556  0.439837         -0.697250 -0.627263   \n",
              "...              ...           ...       ...               ...       ...   \n",
              "375136     -1.058652     -0.132742  1.072008         -0.696449 -0.788376   \n",
              "375137      1.170544     -1.039377 -0.078770         -0.697250  3.218323   \n",
              "375138     -1.060462      0.087365  1.060651         -0.697250  0.247435   \n",
              "375139     -0.728801      0.045440 -0.211261          1.298867  0.967304   \n",
              "375140     -0.893114      0.428008 -0.453530         -0.697247 -0.610123   \n",
              "\n",
              "        loudness     tempo  speechiness   valence  track_popularity  \n",
              "0       0.266328 -1.510817     1.825955 -0.270183         -0.657131  \n",
              "1       0.773812 -0.559374     0.131478 -0.979797         -0.593166  \n",
              "2       0.451118 -0.618095     1.629494  1.430637         -0.593166  \n",
              "3       0.312144 -0.447009     1.107644 -0.758277         -0.657131  \n",
              "4       0.011594  1.771868     3.766008 -0.277692         -0.657131  \n",
              "...          ...       ...          ...       ...               ...  \n",
              "375136  1.163549  0.696558    -0.471412  0.736041          1.581649  \n",
              "375137  0.434013 -0.315442    -0.475096 -0.690695          2.733021  \n",
              "375138  1.098644 -0.185776    -0.535876  0.514522          3.052846  \n",
              "375139  0.126591 -1.264985    -0.334503 -0.694450         -0.209375  \n",
              "375140  0.457226 -0.347359    -0.496583 -1.559503          2.221300  \n",
              "\n",
              "[375141 rows x 10 columns]"
            ]
          },
          "execution_count": 18,
          "metadata": {},
          "output_type": "execute_result"
        }
      ],
      "source": [
        "scaled_df"
      ]
    },
    {
      "cell_type": "code",
      "execution_count": 19,
      "metadata": {},
      "outputs": [
        {
          "data": {
            "text/plain": [
              "acousticness        777\n",
              "danceability        777\n",
              "energy              777\n",
              "instrumentalness    777\n",
              "liveness            777\n",
              "loudness            777\n",
              "tempo               777\n",
              "speechiness         777\n",
              "valence             777\n",
              "track_popularity     10\n",
              "dtype: int64"
            ]
          },
          "execution_count": 19,
          "metadata": {},
          "output_type": "execute_result"
        }
      ],
      "source": [
        "scaled_df.isna().sum()"
      ]
    },
    {
      "cell_type": "code",
      "execution_count": 20,
      "metadata": {},
      "outputs": [],
      "source": [
        "scaled_df.dropna(inplace=True)"
      ]
    },
    {
      "cell_type": "code",
      "execution_count": 21,
      "metadata": {},
      "outputs": [
        {
          "data": {
            "text/plain": [
              "acousticness        0\n",
              "danceability        0\n",
              "energy              0\n",
              "instrumentalness    0\n",
              "liveness            0\n",
              "loudness            0\n",
              "tempo               0\n",
              "speechiness         0\n",
              "valence             0\n",
              "track_popularity    0\n",
              "dtype: int64"
            ]
          },
          "execution_count": 21,
          "metadata": {},
          "output_type": "execute_result"
        }
      ],
      "source": [
        "scaled_df.isna().sum()"
      ]
    },
    {
      "cell_type": "code",
      "execution_count": 22,
      "metadata": {
        "id": "DZz-EJgneTWU"
      },
      "outputs": [],
      "source": [
        "X = scaled_df[['acousticness', 'danceability', 'energy', 'instrumentalness',\n",
        "       'liveness', 'loudness', 'tempo', 'speechiness', 'valence']]\n",
        "y = scaled_df['track_popularity']"
      ]
    },
    {
      "cell_type": "markdown",
      "metadata": {
        "id": "UgJx1XrnfCuZ"
      },
      "source": [
        "Creating the Neural Network"
      ]
    },
    {
      "cell_type": "code",
      "execution_count": 23,
      "metadata": {
        "id": "kOQzcKOme2P-"
      },
      "outputs": [
        {
          "name": "stderr",
          "output_type": "stream",
          "text": [
            "2024-02-29 21:12:45.821633: I external/local_xla/xla/stream_executor/cuda/cuda_executor.cc:887] could not open file to read NUMA node: /sys/bus/pci/devices/0000:01:00.0/numa_node\n",
            "Your kernel may have been built without NUMA support.\n",
            "2024-02-29 21:12:45.821720: I external/local_xla/xla/stream_executor/cuda/cuda_executor.cc:887] could not open file to read NUMA node: /sys/bus/pci/devices/0000:01:00.0/numa_node\n",
            "Your kernel may have been built without NUMA support.\n",
            "2024-02-29 21:12:45.821734: I external/local_xla/xla/stream_executor/cuda/cuda_executor.cc:887] could not open file to read NUMA node: /sys/bus/pci/devices/0000:01:00.0/numa_node\n",
            "Your kernel may have been built without NUMA support.\n",
            "2024-02-29 21:12:45.920499: I external/local_xla/xla/stream_executor/cuda/cuda_executor.cc:887] could not open file to read NUMA node: /sys/bus/pci/devices/0000:01:00.0/numa_node\n",
            "Your kernel may have been built without NUMA support.\n",
            "2024-02-29 21:12:45.920557: I external/local_xla/xla/stream_executor/cuda/cuda_executor.cc:887] could not open file to read NUMA node: /sys/bus/pci/devices/0000:01:00.0/numa_node\n",
            "Your kernel may have been built without NUMA support.\n",
            "2024-02-29 21:12:45.920562: I tensorflow/core/common_runtime/gpu/gpu_device.cc:2022] Could not identify NUMA node of platform GPU id 0, defaulting to 0.  Your kernel may not have been built with NUMA support.\n",
            "2024-02-29 21:12:45.920585: I external/local_xla/xla/stream_executor/cuda/cuda_executor.cc:887] could not open file to read NUMA node: /sys/bus/pci/devices/0000:01:00.0/numa_node\n",
            "Your kernel may have been built without NUMA support.\n",
            "2024-02-29 21:12:45.920601: I tensorflow/core/common_runtime/gpu/gpu_device.cc:1929] Created device /job:localhost/replica:0/task:0/device:GPU:0 with 5563 MB memory:  -> device: 0, name: NVIDIA GeForce RTX 4060 Laptop GPU, pci bus id: 0000:01:00.0, compute capability: 8.9\n"
          ]
        }
      ],
      "source": [
        "model = tf.keras.models.Sequential()"
      ]
    },
    {
      "cell_type": "code",
      "execution_count": 24,
      "metadata": {
        "id": "qgTEVQrEfGaV"
      },
      "outputs": [],
      "source": [
        "model.add(tf.keras.layers.Input(9))"
      ]
    },
    {
      "cell_type": "code",
      "execution_count": 25,
      "metadata": {
        "colab": {
          "base_uri": "https://localhost:8080/"
        },
        "id": "12fbKSQEfSd8",
        "outputId": "46100ea7-f410-4241-b3da-87e12fb4079f"
      },
      "outputs": [
        {
          "name": "stdout",
          "output_type": "stream",
          "text": [
            "Model: \"sequential\"\n",
            "_________________________________________________________________\n",
            " Layer (type)                Output Shape              Param #   \n",
            "=================================================================\n",
            "=================================================================\n",
            "Total params: 0 (0.00 Byte)\n",
            "Trainable params: 0 (0.00 Byte)\n",
            "Non-trainable params: 0 (0.00 Byte)\n",
            "_________________________________________________________________\n"
          ]
        }
      ],
      "source": [
        "model.summary()"
      ]
    },
    {
      "cell_type": "code",
      "execution_count": 26,
      "metadata": {
        "id": "e7INOrsWfMVW"
      },
      "outputs": [],
      "source": [
        "model.add(tf.keras.layers.Dense(30, activation='relu',input_shape=(9,)))"
      ]
    },
    {
      "cell_type": "code",
      "execution_count": 27,
      "metadata": {
        "colab": {
          "base_uri": "https://localhost:8080/"
        },
        "id": "bM6FCSu4fhk8",
        "outputId": "1e343002-018d-4dac-a5b7-3acf84fa9f25"
      },
      "outputs": [
        {
          "name": "stdout",
          "output_type": "stream",
          "text": [
            "Model: \"sequential\"\n",
            "_________________________________________________________________\n",
            " Layer (type)                Output Shape              Param #   \n",
            "=================================================================\n",
            " dense (Dense)               (None, 30)                300       \n",
            "                                                                 \n",
            "=================================================================\n",
            "Total params: 300 (1.17 KB)\n",
            "Trainable params: 300 (1.17 KB)\n",
            "Non-trainable params: 0 (0.00 Byte)\n",
            "_________________________________________________________________\n"
          ]
        }
      ],
      "source": [
        "model.summary()"
      ]
    },
    {
      "cell_type": "code",
      "execution_count": 28,
      "metadata": {
        "id": "MOKvQRw7flJF"
      },
      "outputs": [],
      "source": [
        "model.add(tf.keras.layers.Dense(100, activation='relu'))"
      ]
    },
    {
      "cell_type": "code",
      "execution_count": 29,
      "metadata": {
        "colab": {
          "base_uri": "https://localhost:8080/"
        },
        "id": "c8bgPG5WfrXf",
        "outputId": "70a6c2a9-1f41-454f-b9cd-cff3c5a5e661"
      },
      "outputs": [
        {
          "name": "stdout",
          "output_type": "stream",
          "text": [
            "Model: \"sequential\"\n",
            "_________________________________________________________________\n",
            " Layer (type)                Output Shape              Param #   \n",
            "=================================================================\n",
            " dense (Dense)               (None, 30)                300       \n",
            "                                                                 \n",
            " dense_1 (Dense)             (None, 100)               3100      \n",
            "                                                                 \n",
            "=================================================================\n",
            "Total params: 3400 (13.28 KB)\n",
            "Trainable params: 3400 (13.28 KB)\n",
            "Non-trainable params: 0 (0.00 Byte)\n",
            "_________________________________________________________________\n"
          ]
        }
      ],
      "source": [
        "model.summary()"
      ]
    },
    {
      "cell_type": "code",
      "execution_count": 30,
      "metadata": {
        "id": "u0JQlGJ3ftfi"
      },
      "outputs": [],
      "source": [
        "model.add(tf.keras.layers.Dense(250, activation='relu'))"
      ]
    },
    {
      "cell_type": "code",
      "execution_count": 31,
      "metadata": {
        "colab": {
          "base_uri": "https://localhost:8080/"
        },
        "id": "jGxXaO77fzbM",
        "outputId": "e1b5154e-f4dd-4fbf-f135-e24b7a90f4db"
      },
      "outputs": [
        {
          "name": "stdout",
          "output_type": "stream",
          "text": [
            "Model: \"sequential\"\n",
            "_________________________________________________________________\n",
            " Layer (type)                Output Shape              Param #   \n",
            "=================================================================\n",
            " dense (Dense)               (None, 30)                300       \n",
            "                                                                 \n",
            " dense_1 (Dense)             (None, 100)               3100      \n",
            "                                                                 \n",
            " dense_2 (Dense)             (None, 250)               25250     \n",
            "                                                                 \n",
            "=================================================================\n",
            "Total params: 28650 (111.91 KB)\n",
            "Trainable params: 28650 (111.91 KB)\n",
            "Non-trainable params: 0 (0.00 Byte)\n",
            "_________________________________________________________________\n"
          ]
        }
      ],
      "source": [
        "model.summary()"
      ]
    },
    {
      "cell_type": "code",
      "execution_count": 32,
      "metadata": {
        "id": "TLXM7NO_fyYf"
      },
      "outputs": [],
      "source": [
        "model.add(tf.keras.layers.Dense(50, activation='relu'))"
      ]
    },
    {
      "cell_type": "code",
      "execution_count": 33,
      "metadata": {
        "colab": {
          "base_uri": "https://localhost:8080/"
        },
        "id": "ngQJnDN7f3sV",
        "outputId": "ac410aa6-b93a-44c4-d499-a0364f151da5"
      },
      "outputs": [
        {
          "name": "stdout",
          "output_type": "stream",
          "text": [
            "Model: \"sequential\"\n",
            "_________________________________________________________________\n",
            " Layer (type)                Output Shape              Param #   \n",
            "=================================================================\n",
            " dense (Dense)               (None, 30)                300       \n",
            "                                                                 \n",
            " dense_1 (Dense)             (None, 100)               3100      \n",
            "                                                                 \n",
            " dense_2 (Dense)             (None, 250)               25250     \n",
            "                                                                 \n",
            " dense_3 (Dense)             (None, 50)                12550     \n",
            "                                                                 \n",
            "=================================================================\n",
            "Total params: 41200 (160.94 KB)\n",
            "Trainable params: 41200 (160.94 KB)\n",
            "Non-trainable params: 0 (0.00 Byte)\n",
            "_________________________________________________________________\n"
          ]
        }
      ],
      "source": [
        "model.summary()"
      ]
    },
    {
      "cell_type": "code",
      "execution_count": 34,
      "metadata": {
        "id": "LaNIXsl6f44Z"
      },
      "outputs": [],
      "source": [
        "# model.add(tf.keras.layers.Dense(100, activation='linear'))"
      ]
    },
    {
      "cell_type": "code",
      "execution_count": 35,
      "metadata": {
        "colab": {
          "base_uri": "https://localhost:8080/"
        },
        "id": "1VBL6YcqgG_f",
        "outputId": "9fe39188-777f-4bd0-ded7-ef9f54b44359"
      },
      "outputs": [],
      "source": [
        "# model.summary()"
      ]
    },
    {
      "cell_type": "code",
      "execution_count": 36,
      "metadata": {
        "id": "fx9NfrmKgFAG"
      },
      "outputs": [],
      "source": [
        "model.add(tf.keras.layers.Dense(1))"
      ]
    },
    {
      "cell_type": "code",
      "execution_count": 37,
      "metadata": {
        "colab": {
          "base_uri": "https://localhost:8080/"
        },
        "id": "unTAT2j0gJC6",
        "outputId": "596cc810-c263-43d3-d81d-096c9538f2b1"
      },
      "outputs": [
        {
          "name": "stdout",
          "output_type": "stream",
          "text": [
            "Model: \"sequential\"\n",
            "_________________________________________________________________\n",
            " Layer (type)                Output Shape              Param #   \n",
            "=================================================================\n",
            " dense (Dense)               (None, 30)                300       \n",
            "                                                                 \n",
            " dense_1 (Dense)             (None, 100)               3100      \n",
            "                                                                 \n",
            " dense_2 (Dense)             (None, 250)               25250     \n",
            "                                                                 \n",
            " dense_3 (Dense)             (None, 50)                12550     \n",
            "                                                                 \n",
            " dense_4 (Dense)             (None, 1)                 51        \n",
            "                                                                 \n",
            "=================================================================\n",
            "Total params: 41251 (161.14 KB)\n",
            "Trainable params: 41251 (161.14 KB)\n",
            "Non-trainable params: 0 (0.00 Byte)\n",
            "_________________________________________________________________\n"
          ]
        }
      ],
      "source": [
        "model.summary()"
      ]
    },
    {
      "cell_type": "code",
      "execution_count": 38,
      "metadata": {
        "id": "xHDzGH93gKuu"
      },
      "outputs": [
        {
          "name": "stderr",
          "output_type": "stream",
          "text": [
            "WARNING:absl:`lr` is deprecated in Keras optimizer, please use `learning_rate` or use the legacy optimizer, e.g.,tf.keras.optimizers.legacy.Adam.\n"
          ]
        }
      ],
      "source": [
        "model.compile(loss=tf.keras.losses.mean_absolute_error, optimizer=tf.keras.optimizers.Adam(lr=0.1), metrics=['mae', 'accuracy'], run_eagerly=False)"
      ]
    },
    {
      "cell_type": "code",
      "execution_count": 39,
      "metadata": {
        "id": "DGHYNzCjgUZc"
      },
      "outputs": [],
      "source": [
        "from sklearn.model_selection import train_test_split\n",
        "x_train, x_test, y_train, y_test = train_test_split(X,y,train_size=0.7,test_size=0.3)"
      ]
    },
    {
      "cell_type": "code",
      "execution_count": 40,
      "metadata": {},
      "outputs": [
        {
          "data": {
            "text/plain": [
              "pandas.core.frame.DataFrame"
            ]
          },
          "execution_count": 40,
          "metadata": {},
          "output_type": "execute_result"
        }
      ],
      "source": [
        "type(x_train)"
      ]
    },
    {
      "cell_type": "code",
      "execution_count": 41,
      "metadata": {},
      "outputs": [],
      "source": [
        "x_train = np.asarray(x_train)\n",
        "y_train = np.asarray(y_train)"
      ]
    },
    {
      "cell_type": "code",
      "execution_count": 42,
      "metadata": {},
      "outputs": [
        {
          "data": {
            "text/plain": [
              "numpy.ndarray"
            ]
          },
          "execution_count": 42,
          "metadata": {},
          "output_type": "execute_result"
        }
      ],
      "source": [
        "type(x_train)\n",
        "type(y_train)"
      ]
    },
    {
      "cell_type": "code",
      "execution_count": 43,
      "metadata": {},
      "outputs": [
        {
          "data": {
            "text/plain": [
              "(262047, 9)"
            ]
          },
          "execution_count": 43,
          "metadata": {},
          "output_type": "execute_result"
        }
      ],
      "source": [
        "x_train.shape"
      ]
    },
    {
      "cell_type": "code",
      "execution_count": 44,
      "metadata": {},
      "outputs": [
        {
          "data": {
            "text/plain": [
              "(262047,)"
            ]
          },
          "execution_count": 44,
          "metadata": {},
          "output_type": "execute_result"
        }
      ],
      "source": [
        "y_train.shape"
      ]
    },
    {
      "cell_type": "code",
      "execution_count": 45,
      "metadata": {
        "colab": {
          "base_uri": "https://localhost:8080/"
        },
        "id": "oAqw21txgY7o",
        "outputId": "a661e275-00e8-432c-df77-b9215a2404e9"
      },
      "outputs": [
        {
          "name": "stdout",
          "output_type": "stream",
          "text": [
            "Epoch 1/5\n"
          ]
        },
        {
          "name": "stderr",
          "output_type": "stream",
          "text": [
            "2024-02-29 21:12:47.104264: I external/local_tsl/tsl/platform/default/subprocess.cc:304] Start cannot spawn child process: No such file or directory\n",
            "2024-02-29 21:12:47.201593: I external/local_xla/xla/service/service.cc:168] XLA service 0x56237159afb0 initialized for platform CUDA (this does not guarantee that XLA will be used). Devices:\n",
            "2024-02-29 21:12:47.201630: I external/local_xla/xla/service/service.cc:176]   StreamExecutor device (0): NVIDIA GeForce RTX 4060 Laptop GPU, Compute Capability 8.9\n",
            "2024-02-29 21:12:47.205413: I tensorflow/compiler/mlir/tensorflow/utils/dump_mlir_util.cc:269] disabling MLIR crash reproducer, set env var `MLIR_CRASH_REPRODUCER_DIRECTORY` to enable.\n",
            "2024-02-29 21:12:47.217754: I external/local_xla/xla/stream_executor/cuda/cuda_dnn.cc:454] Loaded cuDNN version 8904\n",
            "WARNING: All log messages before absl::InitializeLog() is called are written to STDERR\n",
            "I0000 00:00:1709259167.270436   52506 device_compiler.h:186] Compiled cluster using XLA!  This line is logged at most once for the lifetime of the process.\n"
          ]
        },
        {
          "name": "stdout",
          "output_type": "stream",
          "text": [
            "8189/8189 [==============================] - 29s 3ms/step - loss: 0.6111 - mae: 0.6111 - accuracy: 0.0000e+00\n",
            "Epoch 2/5\n",
            "8189/8189 [==============================] - 27s 3ms/step - loss: 0.6062 - mae: 0.6062 - accuracy: 0.0000e+00\n",
            "Epoch 3/5\n",
            "8189/8189 [==============================] - 27s 3ms/step - loss: 0.6049 - mae: 0.6049 - accuracy: 0.0000e+00\n",
            "Epoch 4/5\n",
            "8189/8189 [==============================] - 28s 3ms/step - loss: 0.6037 - mae: 0.6037 - accuracy: 0.0000e+00\n",
            "Epoch 5/5\n",
            "8189/8189 [==============================] - 29s 4ms/step - loss: 0.6030 - mae: 0.6030 - accuracy: 0.0000e+00\n"
          ]
        }
      ],
      "source": [
        "# h = model.fit(x_train, y_train, batch_size=32, epochs=10)\n",
        "h = model.fit(x_train, y_train, epochs=5)"
      ]
    },
    {
      "cell_type": "code",
      "execution_count": 46,
      "metadata": {},
      "outputs": [
        {
          "data": {
            "text/plain": [
              "<matplotlib.legend.Legend at 0x7fabd833a8c0>"
            ]
          },
          "execution_count": 46,
          "metadata": {},
          "output_type": "execute_result"
        },
        {
          "data": {
            "image/png": "[encoded data removed]",
            "text/plain": [
              "<Figure size 600x500 with 1 Axes>"
            ]
          },
          "metadata": {},
          "output_type": "display_data"
        }
      ],
      "source": [
        "pd.DataFrame(h.history).plot(figsize=(6,5))\n",
        "plt.xlabel(\"Epochs\")\n",
        "plt.title('Loss curves')\n",
        "plt.legend()"
      ]
    }
  ],
  "metadata": {
    "accelerator": "GPU",
    "colab": {
      "gpuType": "T4",
      "provenance": []
    },
    "kernelspec": {
      "display_name": "Python 3",
      "name": "python3"
    },
    "language_info": {
      "codemirror_mode": {
        "name": "ipython",
        "version": 3
      },
      "file_extension": ".py",
      "mimetype": "text/x-python",
      "name": "python",
      "nbconvert_exporter": "python",
      "pygments_lexer": "ipython3",
      "version": "3.10.12"
    }
  },
  "nbformat": 4,
  "nbformat_minor": 0
}
