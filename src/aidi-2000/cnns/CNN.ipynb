{
  "nbformat": 4,
  "nbformat_minor": 0,
  "metadata": {
    "colab": {
      "provenance": []
    },
    "kernelspec": {
      "name": "python3",
      "display_name": "Python 3"
    },
    "language_info": {
      "name": "python"
    }
  },
  "cells": [
    {
      "cell_type": "code",
      "execution_count": 1,
      "metadata": {
        "id": "ZpYRFsE_xJmP"
      },
      "outputs": [],
      "source": [
        "import keras"
      ]
    },
    {
      "cell_type": "code",
      "source": [
        "model = keras.models.Sequential()"
      ],
      "metadata": {
        "id": "R-muz5d3xfuy"
      },
      "execution_count": 2,
      "outputs": []
    },
    {
      "cell_type": "code",
      "source": [
        "i1 = keras.layers.Input(10)\n",
        "l1 = keras.layers.Dense(100, activation='sigmoid')"
      ],
      "metadata": {
        "id": "-5d1-3dMxm9v"
      },
      "execution_count": 3,
      "outputs": []
    },
    {
      "cell_type": "code",
      "source": [
        "model.add(i1)\n",
        "model.add(l1)"
      ],
      "metadata": {
        "id": "kmrroO-6xzA-"
      },
      "execution_count": 4,
      "outputs": []
    },
    {
      "cell_type": "code",
      "source": [
        "model.summary()"
      ],
      "metadata": {
        "colab": {
          "base_uri": "https://localhost:8080/"
        },
        "id": "XTmOeAYnx1JZ",
        "outputId": "f45cceb4-9186-4941-f881-cdef7f63d51a"
      },
      "execution_count": 5,
      "outputs": [
        {
          "output_type": "stream",
          "name": "stdout",
          "text": [
            "Model: \"sequential\"\n",
            "_________________________________________________________________\n",
            " Layer (type)                Output Shape              Param #   \n",
            "=================================================================\n",
            " dense (Dense)               (None, 100)               1100      \n",
            "                                                                 \n",
            "=================================================================\n",
            "Total params: 1100 (4.30 KB)\n",
            "Trainable params: 1100 (4.30 KB)\n",
            "Non-trainable params: 0 (0.00 Byte)\n",
            "_________________________________________________________________\n"
          ]
        }
      ]
    },
    {
      "cell_type": "code",
      "source": [
        "model.add(keras.layers.Dense(10, activation='relu'))"
      ],
      "metadata": {
        "id": "jzXY4UdZypA2"
      },
      "execution_count": 6,
      "outputs": []
    },
    {
      "cell_type": "code",
      "source": [
        "model.summary()"
      ],
      "metadata": {
        "colab": {
          "base_uri": "https://localhost:8080/"
        },
        "id": "Bw4F3jTAzI9A",
        "outputId": "6d0fe480-cca6-41f2-84bb-c352a80f9ff9"
      },
      "execution_count": 7,
      "outputs": [
        {
          "output_type": "stream",
          "name": "stdout",
          "text": [
            "Model: \"sequential\"\n",
            "_________________________________________________________________\n",
            " Layer (type)                Output Shape              Param #   \n",
            "=================================================================\n",
            " dense (Dense)               (None, 100)               1100      \n",
            "                                                                 \n",
            " dense_1 (Dense)             (None, 10)                1010      \n",
            "                                                                 \n",
            "=================================================================\n",
            "Total params: 2110 (8.24 KB)\n",
            "Trainable params: 2110 (8.24 KB)\n",
            "Non-trainable params: 0 (0.00 Byte)\n",
            "_________________________________________________________________\n"
          ]
        }
      ]
    },
    {
      "cell_type": "code",
      "source": [
        "model.add(keras.layers.Dense(2, activation='sigmoid'))"
      ],
      "metadata": {
        "id": "LOuV4W8izb36"
      },
      "execution_count": 8,
      "outputs": []
    },
    {
      "cell_type": "code",
      "source": [
        "# CNN"
      ],
      "metadata": {
        "id": "McS62fcdzuh4"
      },
      "execution_count": 9,
      "outputs": []
    },
    {
      "cell_type": "code",
      "source": [
        "model = keras.models.Sequential()"
      ],
      "metadata": {
        "id": "ZoQx9Sz5zw7-"
      },
      "execution_count": 10,
      "outputs": []
    },
    {
      "cell_type": "code",
      "source": [
        "model.add(keras.layers.Input(shape=(100, 100, 1)))"
      ],
      "metadata": {
        "id": "3cyVGWopz1I1"
      },
      "execution_count": 12,
      "outputs": []
    },
    {
      "cell_type": "code",
      "source": [
        "model.add(keras.layers.Conv2D(3, kernel_size=(3,3), activation='relu'))"
      ],
      "metadata": {
        "id": "ATXdHK6p0QDr"
      },
      "execution_count": 13,
      "outputs": []
    },
    {
      "cell_type": "code",
      "source": [
        "model.summary()"
      ],
      "metadata": {
        "colab": {
          "base_uri": "https://localhost:8080/"
        },
        "id": "9ILwm_S70lW1",
        "outputId": "9173c161-32a2-4ea3-a128-8510692f3362"
      },
      "execution_count": 14,
      "outputs": [
        {
          "output_type": "stream",
          "name": "stdout",
          "text": [
            "Model: \"sequential_1\"\n",
            "_________________________________________________________________\n",
            " Layer (type)                Output Shape              Param #   \n",
            "=================================================================\n",
            " conv2d (Conv2D)             (None, 98, 98, 3)         30        \n",
            "                                                                 \n",
            "=================================================================\n",
            "Total params: 30 (120.00 Byte)\n",
            "Trainable params: 30 (120.00 Byte)\n",
            "Non-trainable params: 0 (0.00 Byte)\n",
            "_________________________________________________________________\n"
          ]
        }
      ]
    },
    {
      "cell_type": "code",
      "source": [
        "model.add(keras.layers.AvgPool2D(pool_size=(2, 2)))"
      ],
      "metadata": {
        "id": "uz1AZILh0oCM"
      },
      "execution_count": 15,
      "outputs": []
    },
    {
      "cell_type": "code",
      "source": [
        "model.summary()"
      ],
      "metadata": {
        "colab": {
          "base_uri": "https://localhost:8080/"
        },
        "id": "fxp_KLaO1fer",
        "outputId": "03ca7c5e-fc3b-49e0-9338-e835b85a7b4c"
      },
      "execution_count": 16,
      "outputs": [
        {
          "output_type": "stream",
          "name": "stdout",
          "text": [
            "Model: \"sequential_1\"\n",
            "_________________________________________________________________\n",
            " Layer (type)                Output Shape              Param #   \n",
            "=================================================================\n",
            " conv2d (Conv2D)             (None, 98, 98, 3)         30        \n",
            "                                                                 \n",
            " average_pooling2d (Average  (None, 49, 49, 3)         0         \n",
            " Pooling2D)                                                      \n",
            "                                                                 \n",
            "=================================================================\n",
            "Total params: 30 (120.00 Byte)\n",
            "Trainable params: 30 (120.00 Byte)\n",
            "Non-trainable params: 0 (0.00 Byte)\n",
            "_________________________________________________________________\n"
          ]
        }
      ]
    },
    {
      "cell_type": "code",
      "source": [
        "model.add(keras.layers.Conv2D(3, kernel_size=(4, 4)))"
      ],
      "metadata": {
        "id": "gO7P_AEB1im5"
      },
      "execution_count": 17,
      "outputs": []
    },
    {
      "cell_type": "code",
      "source": [
        "model.summary()"
      ],
      "metadata": {
        "colab": {
          "base_uri": "https://localhost:8080/"
        },
        "id": "cZgxctTe13YM",
        "outputId": "fd071fb1-8098-4378-fee2-df497c4e7844"
      },
      "execution_count": 18,
      "outputs": [
        {
          "output_type": "stream",
          "name": "stdout",
          "text": [
            "Model: \"sequential_1\"\n",
            "_________________________________________________________________\n",
            " Layer (type)                Output Shape              Param #   \n",
            "=================================================================\n",
            " conv2d (Conv2D)             (None, 98, 98, 3)         30        \n",
            "                                                                 \n",
            " average_pooling2d (Average  (None, 49, 49, 3)         0         \n",
            " Pooling2D)                                                      \n",
            "                                                                 \n",
            " conv2d_1 (Conv2D)           (None, 46, 46, 3)         147       \n",
            "                                                                 \n",
            "=================================================================\n",
            "Total params: 177 (708.00 Byte)\n",
            "Trainable params: 177 (708.00 Byte)\n",
            "Non-trainable params: 0 (0.00 Byte)\n",
            "_________________________________________________________________\n"
          ]
        }
      ]
    },
    {
      "cell_type": "code",
      "source": [
        "model.add(keras.layers.Flatten())"
      ],
      "metadata": {
        "id": "SEPi-i-J3DrG"
      },
      "execution_count": 19,
      "outputs": []
    },
    {
      "cell_type": "code",
      "source": [
        "model.summary()"
      ],
      "metadata": {
        "colab": {
          "base_uri": "https://localhost:8080/"
        },
        "id": "hsranv653OXH",
        "outputId": "70dfaee6-f64d-4d09-c829-3fc426355328"
      },
      "execution_count": 20,
      "outputs": [
        {
          "output_type": "stream",
          "name": "stdout",
          "text": [
            "Model: \"sequential_1\"\n",
            "_________________________________________________________________\n",
            " Layer (type)                Output Shape              Param #   \n",
            "=================================================================\n",
            " conv2d (Conv2D)             (None, 98, 98, 3)         30        \n",
            "                                                                 \n",
            " average_pooling2d (Average  (None, 49, 49, 3)         0         \n",
            " Pooling2D)                                                      \n",
            "                                                                 \n",
            " conv2d_1 (Conv2D)           (None, 46, 46, 3)         147       \n",
            "                                                                 \n",
            " flatten (Flatten)           (None, 6348)              0         \n",
            "                                                                 \n",
            "=================================================================\n",
            "Total params: 177 (708.00 Byte)\n",
            "Trainable params: 177 (708.00 Byte)\n",
            "Non-trainable params: 0 (0.00 Byte)\n",
            "_________________________________________________________________\n"
          ]
        }
      ]
    },
    {
      "cell_type": "code",
      "source": [
        "model.add(keras.layers.Dense(10, activation='tanh'))"
      ],
      "metadata": {
        "id": "1CEJe_Wq3fDN"
      },
      "execution_count": 21,
      "outputs": []
    },
    {
      "cell_type": "code",
      "source": [
        "model.summary()"
      ],
      "metadata": {
        "colab": {
          "base_uri": "https://localhost:8080/"
        },
        "id": "llTM7eDY32fX",
        "outputId": "89337ca0-2c97-428e-f15e-e9df22a55b79"
      },
      "execution_count": 22,
      "outputs": [
        {
          "output_type": "stream",
          "name": "stdout",
          "text": [
            "Model: \"sequential_1\"\n",
            "_________________________________________________________________\n",
            " Layer (type)                Output Shape              Param #   \n",
            "=================================================================\n",
            " conv2d (Conv2D)             (None, 98, 98, 3)         30        \n",
            "                                                                 \n",
            " average_pooling2d (Average  (None, 49, 49, 3)         0         \n",
            " Pooling2D)                                                      \n",
            "                                                                 \n",
            " conv2d_1 (Conv2D)           (None, 46, 46, 3)         147       \n",
            "                                                                 \n",
            " flatten (Flatten)           (None, 6348)              0         \n",
            "                                                                 \n",
            " dense_3 (Dense)             (None, 10)                63490     \n",
            "                                                                 \n",
            "=================================================================\n",
            "Total params: 63667 (248.70 KB)\n",
            "Trainable params: 63667 (248.70 KB)\n",
            "Non-trainable params: 0 (0.00 Byte)\n",
            "_________________________________________________________________\n"
          ]
        }
      ]
    },
    {
      "cell_type": "code",
      "source": [
        "model.add(keras.layers.Dense(2, activation='sigmoid'))"
      ],
      "metadata": {
        "id": "h7wBsnv_4J97"
      },
      "execution_count": 23,
      "outputs": []
    },
    {
      "cell_type": "code",
      "source": [
        "model.summary()"
      ],
      "metadata": {
        "colab": {
          "base_uri": "https://localhost:8080/"
        },
        "id": "Mb0mkcpM4Rm7",
        "outputId": "b08bffb7-7d08-4f82-ed3a-a894002e038c"
      },
      "execution_count": 24,
      "outputs": [
        {
          "output_type": "stream",
          "name": "stdout",
          "text": [
            "Model: \"sequential_1\"\n",
            "_________________________________________________________________\n",
            " Layer (type)                Output Shape              Param #   \n",
            "=================================================================\n",
            " conv2d (Conv2D)             (None, 98, 98, 3)         30        \n",
            "                                                                 \n",
            " average_pooling2d (Average  (None, 49, 49, 3)         0         \n",
            " Pooling2D)                                                      \n",
            "                                                                 \n",
            " conv2d_1 (Conv2D)           (None, 46, 46, 3)         147       \n",
            "                                                                 \n",
            " flatten (Flatten)           (None, 6348)              0         \n",
            "                                                                 \n",
            " dense_3 (Dense)             (None, 10)                63490     \n",
            "                                                                 \n",
            " dense_4 (Dense)             (None, 2)                 22        \n",
            "                                                                 \n",
            "=================================================================\n",
            "Total params: 63689 (248.79 KB)\n",
            "Trainable params: 63689 (248.79 KB)\n",
            "Non-trainable params: 0 (0.00 Byte)\n",
            "_________________________________________________________________\n"
          ]
        }
      ]
    }
  ]
}