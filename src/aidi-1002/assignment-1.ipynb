{
 "cells": [
  {
   "cell_type": "code",
   "execution_count": 1,
   "metadata": {},
   "outputs": [],
   "source": [
    "# This is the submission of Sairaj Udayshankar (100865420)\n",
    "# A second order polynomial function is typically of the form y = ax^2+bx+c\n",
    "# The first derivative of this polynomial would look like dy/dx = 2ax+b\n",
    "# The program uses gradient descent to find the optimal value (minima) for the input polynomial"
   ]
  },
  {
   "cell_type": "code",
   "execution_count": 2,
   "metadata": {},
   "outputs": [],
   "source": [
    "input_coefficients = input(\"Please enter a comma separated string with the coefficients for the second order polynomial from the highest to the lowest order\").split(\",\")\n",
    "coefficients = []\n",
    "for digit in input_coefficients:\n",
    "    coefficients.append(int(digit.strip()))"
   ]
  },
  {
   "cell_type": "code",
   "execution_count": 3,
   "metadata": {},
   "outputs": [
    {
     "name": "stdout",
     "output_type": "stream",
     "text": [
      "This is your desired polynomial: 1x^2 + -4x + -6\n"
     ]
    }
   ],
   "source": [
    "print(f\"This is your desired polynomial: {coefficients[0]}x^2 + {coefficients[1]}x + {coefficients[2]}\")"
   ]
  },
  {
   "cell_type": "code",
   "execution_count": 4,
   "metadata": {},
   "outputs": [
    {
     "name": "stdout",
     "output_type": "stream",
     "text": [
      "This is the first derivative: 2x + -4\n"
     ]
    }
   ],
   "source": [
    "print(f\"This is the first derivative: {2 * coefficients[0]}x + {coefficients[1]}\")"
   ]
  },
  {
   "cell_type": "code",
   "execution_count": 5,
   "metadata": {},
   "outputs": [],
   "source": [
    "# this generates the result of the function at input x\n",
    "def y_function(x):\n",
    "    return coefficients[0] * x**2 + coefficients[1] * x + coefficients[2]"
   ]
  },
  {
   "cell_type": "code",
   "execution_count": 6,
   "metadata": {},
   "outputs": [],
   "source": [
    "# this generates the value of the first derivative of the function at input x\n",
    "def y_gradient(x):\n",
    "    return coefficients[0] * 2 * x + coefficients[1]"
   ]
  },
  {
   "cell_type": "code",
   "execution_count": 7,
   "metadata": {},
   "outputs": [],
   "source": [
    "# creating a range of input values (x) from -100 to 100\n",
    "# creating values of function y corresponding to the values of x\n",
    "# creating values of gradient of y corresponding to the values of x\n",
    "x = []\n",
    "y = []\n",
    "y_grad = []\n",
    "for i in range(-100, 101):\n",
    "    x.append(i)\n",
    "    y.append(y_function(i))\n",
    "    y_grad.append(y_gradient(i))"
   ]
  },
  {
   "cell_type": "code",
   "execution_count": 8,
   "metadata": {},
   "outputs": [],
   "source": [
    "starting_point = int(input(\"Enter an integer between -100 and 100\"))"
   ]
  },
  {
   "cell_type": "code",
   "execution_count": 9,
   "metadata": {},
   "outputs": [],
   "source": [
    "learning_rate = float(input(\"Enter a number between 0.0001 and 0.1\"))"
   ]
  },
  {
   "cell_type": "code",
   "execution_count": 10,
   "metadata": {},
   "outputs": [],
   "source": [
    "def gradient_descent(starting_point, learning_rate):\n",
    "    current_position = starting_point\n",
    "\n",
    "    for _ in range(1000):\n",
    "        new_x = current_position - learning_rate * y_gradient(current_position)\n",
    "        current_position = new_x\n",
    "    \n",
    "    return current_position"
   ]
  },
  {
   "cell_type": "code",
   "execution_count": 11,
   "metadata": {},
   "outputs": [],
   "source": [
    "def actual_optimal_value():\n",
    "    return x[y.index(min(y))]"
   ]
  },
  {
   "cell_type": "code",
   "execution_count": 12,
   "metadata": {},
   "outputs": [
    {
     "name": "stdout",
     "output_type": "stream",
     "text": [
      "Actual Optimal Value: 2\n",
      "Predicted Optimal Value: 4.431161404040308\n",
      "Cost: -2.4311614040403082\n"
     ]
    }
   ],
   "source": [
    "print(f\"Actual Optimal Value: {actual_optimal_value()}\")\n",
    "print(f\"Predicted Optimal Value: {gradient_descent(starting_point, learning_rate)}\")\n",
    "print(f\"Cost: {actual_optimal_value() - gradient_descent(starting_point, learning_rate)}\")"
   ]
  }
 ],
 "metadata": {
  "kernelspec": {
   "display_name": ".venv",
   "language": "python",
   "name": "python3"
  },
  "language_info": {
   "codemirror_mode": {
    "name": "ipython",
    "version": 3
   },
   "file_extension": ".py",
   "mimetype": "text/x-python",
   "name": "python",
   "nbconvert_exporter": "python",
   "pygments_lexer": "ipython3",
   "version": "3.11.4"
  }
 },
 "nbformat": 4,
 "nbformat_minor": 2
}
