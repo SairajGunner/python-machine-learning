{
 "cells": [
  {
   "cell_type": "markdown",
   "metadata": {},
   "source": [
    "### Instructions \n",
    "\n",
    "####  1. rename this notebook to yourname_studentid.ipynb\n",
    "####  2. submit your work to DC-connect (midterm-test) folder\n",
    "\n",
    "####  3. You are only allowed to use the following libraries\n",
    "####  Numpy, Pandas\n"
   ]
  },
  {
   "cell_type": "markdown",
   "metadata": {},
   "source": [
    "#### -----------------------------------------------------------------------------------\n",
    "####   Sairaj Udayshankar <placeholder>\n",
    "\n",
    "####   100865420 <placeholder>"
   ]
  },
  {
   "cell_type": "code",
   "execution_count": 1,
   "metadata": {},
   "outputs": [],
   "source": [
    "# import numpy & pandas\n",
    "import numpy as np\n",
    "import pandas as pd"
   ]
  },
  {
   "cell_type": "code",
   "execution_count": 3,
   "metadata": {},
   "outputs": [],
   "source": [
    "# 1 point\n",
    "# create a variable 'my_name' and assign your name to it\n",
    "# e.g my_name = \"john doe\"\n",
    "my_name = \"sairaj udayshankar\""
   ]
  },
  {
   "cell_type": "code",
   "execution_count": 6,
   "metadata": {},
   "outputs": [
    {
     "data": {
      "text/plain": [
       "['s', 'a', 'i', 'r', 'j', ' ', 'u', 'd', 'y', 'h', 'n', 'k']"
      ]
     },
     "execution_count": 6,
     "metadata": {},
     "output_type": "execute_result"
    }
   ],
   "source": [
    "# 2 points\n",
    "# find all the unique characters of my name and assign to a list called my_list\n",
    "# e.g. my_list = all unique lower case characters of my name (It is Ok to have 'space' character included in the list ) \n",
    "my_list = []\n",
    "for character in my_name:\n",
    "    if my_list.count(character) > 0:\n",
    "        continue\n",
    "    else:\n",
    "        my_list.append(character)\n",
    "\n",
    "my_list"
   ]
  },
  {
   "cell_type": "code",
   "execution_count": 9,
   "metadata": {},
   "outputs": [
    {
     "name": "stdout",
     "output_type": "stream",
     "text": [
      "['s', 'a', 'i', 'r', 'j', ' ', 'u', 'd', 'y', 'h', 'n', 'k']\n",
      "[115, 97, 105, 114, 106, 32, 117, 100, 121, 104, 110, 107]\n"
     ]
    }
   ],
   "source": [
    "# 2 points\n",
    "#find  all the ascii value associated with characters of my_list and assign it to my_list_ascii\n",
    "# please use 'ord' method to convert character to ascii\n",
    "# e.g my_list = ['j','o','h','n', ' ', 'd','o','e'] \n",
    "# my_list_ascii = [90, 91,92, .....]\n",
    "my_list_ascii = []\n",
    "for character in my_list:\n",
    "    my_list_ascii.append(ord(character))\n",
    "\n",
    "print(my_list)\n",
    "print(my_list_ascii)"
   ]
  },
  {
   "cell_type": "code",
   "execution_count": 11,
   "metadata": {},
   "outputs": [
    {
     "data": {
      "text/plain": [
       "array([ 0,  1,  2,  3,  4,  5,  6,  7,  8,  9, 10, 11, 12, 13, 14, 15, 16,\n",
       "       17, 18, 19, 20, 21, 22, 23, 24, 25, 26, 27, 28, 29, 30, 31, 32, 33,\n",
       "       34, 35, 36, 37, 38, 39, 40, 41, 42, 43, 44, 45, 46, 47, 48, 49, 50])"
      ]
     },
     "execution_count": 11,
     "metadata": {},
     "output_type": "execute_result"
    }
   ],
   "source": [
    "#  1 points\n",
    "# create a numpy array ranging from 0 to 50\n",
    "# e.g  y = numpy array (0, 50)\n",
    "y = np.arange(51)\n",
    "\n",
    "y"
   ]
  },
  {
   "cell_type": "code",
   "execution_count": 17,
   "metadata": {},
   "outputs": [
    {
     "data": {
      "text/plain": [
       "array([ 0,  1,  2,  3,  4, -5, -6, -7, -8, -9, 10, 11, 12, 13, 14, 15, 16,\n",
       "       17, 18, 19, 20, 21, 22, 23, 24, 25, 26, 27, 28, 29, 30, 31, 32, 33,\n",
       "       34, 35, 36, 37, 38, 39, 40, 41, 42, 43, 44, 45, 46, 47, 48, 49, 50])"
      ]
     },
     "execution_count": 17,
     "metadata": {},
     "output_type": "execute_result"
    }
   ],
   "source": [
    "#  5 points\n",
    "# without using the python loop methods (for, while), change the sign of elements indexing from 5 to 10 of the y array to negative\n",
    "# e.g output should be 0, 1,2,3,4,-5,-6,-7,-8,-9,10,11,12, ......., 50\n",
    "y[5:10] *= -1\n",
    "\n",
    "y"
   ]
  },
  {
   "cell_type": "code",
   "execution_count": 18,
   "metadata": {},
   "outputs": [],
   "source": [
    "# 1 points\n",
    "\n",
    "#create a variable name my_id and assign your student_id\n",
    "# e.g my_id = \"1001233445\"\n",
    "my_id = \"100865420\""
   ]
  },
  {
   "cell_type": "code",
   "execution_count": 19,
   "metadata": {},
   "outputs": [
    {
     "data": {
      "text/plain": [
       "array([1, 0, 0, 8, 6, 5, 4, 2, 0])"
      ]
     },
     "execution_count": 19,
     "metadata": {},
     "output_type": "execute_result"
    }
   ],
   "source": [
    "# 1 points\n",
    "#create a numpy array using my_id variable (No hard coded inputs e.g [1,0,0,1, ...])\n",
    "my_id_list = np.array(list(my_id), dtype=int)\n",
    "\n",
    "my_id_list"
   ]
  },
  {
   "cell_type": "code",
   "execution_count": 21,
   "metadata": {},
   "outputs": [
    {
     "data": {
      "text/plain": [
       "array([ 1.25,  0.5 ,  0.5 , 62.5 , 35.  , 24.25, 15.5 ,  4.  ,  0.5 ])"
      ]
     },
     "execution_count": 21,
     "metadata": {},
     "output_type": "execute_result"
    }
   ],
   "source": [
    "# 2 points\n",
    "# create a numpy array (w) using the following function\n",
    "# w = x**2 - 0.25x +0.5 (where x = my_id) (here, my_id is a numpy array)\n",
    "w = my_id_list**2 - 0.25*my_id_list + 0.5\n",
    "\n",
    "w"
   ]
  },
  {
   "cell_type": "code",
   "execution_count": 22,
   "metadata": {},
   "outputs": [
    {
     "data": {
      "text/plain": [
       "array([  1.25,   0.  ,   0.  , 500.  , 210.  , 121.25,  62.  ,   8.  ,\n",
       "         0.  ])"
      ]
     },
     "execution_count": 22,
     "metadata": {},
     "output_type": "execute_result"
    }
   ],
   "source": [
    "# 2 points\n",
    "# calculate the element-wise multiplication of w and my_id (w*my_id)\n",
    "# e.g\n",
    "# z = w(i) * my_id(i) where  i in length of (my_id)\n",
    "w * my_id_list"
   ]
  },
  {
   "cell_type": "code",
   "execution_count": 25,
   "metadata": {},
   "outputs": [
    {
     "data": {
      "text/plain": [
       "902.5"
      ]
     },
     "execution_count": 25,
     "metadata": {},
     "output_type": "execute_result"
    }
   ],
   "source": [
    "# 1 points\n",
    "# calculate the dot-product from previous cell (e.g sum (w*my_id)) and assign it to a variable name 'my_total'\n",
    "# e.g my_total = sum of  (w*my_id)\n",
    "my_total = sum(w * my_id_list)\n",
    "\n",
    "my_total"
   ]
  },
  {
   "cell_type": "code",
   "execution_count": 26,
   "metadata": {},
   "outputs": [
    {
     "data": {
      "text/plain": [
       "902"
      ]
     },
     "execution_count": 26,
     "metadata": {},
     "output_type": "execute_result"
    }
   ],
   "source": [
    "# 1 point\n",
    "# convert the my_total to an integer. if the my_total is smaller that 100, add 100 to the my_total\n",
    "# e.g \n",
    "# if my_total < 100:\n",
    "#    my_total += 100\n",
    "my_total = int(my_total)\n",
    "\n",
    "my_total"
   ]
  },
  {
   "cell_type": "code",
   "execution_count": 32,
   "metadata": {},
   "outputs": [
    {
     "data": {
      "text/plain": [
       "[2,\n",
       " 3,\n",
       " 5,\n",
       " 7,\n",
       " 11,\n",
       " 13,\n",
       " 17,\n",
       " 19,\n",
       " 23,\n",
       " 29,\n",
       " 31,\n",
       " 37,\n",
       " 41,\n",
       " 43,\n",
       " 47,\n",
       " 53,\n",
       " 59,\n",
       " 61,\n",
       " 67,\n",
       " 71,\n",
       " 73,\n",
       " 79,\n",
       " 83,\n",
       " 89,\n",
       " 97,\n",
       " 101,\n",
       " 103,\n",
       " 107,\n",
       " 109,\n",
       " 113,\n",
       " 127,\n",
       " 131,\n",
       " 137,\n",
       " 139,\n",
       " 149,\n",
       " 151,\n",
       " 157,\n",
       " 163,\n",
       " 167,\n",
       " 173,\n",
       " 179,\n",
       " 181,\n",
       " 191,\n",
       " 193,\n",
       " 197,\n",
       " 199,\n",
       " 211,\n",
       " 223,\n",
       " 227,\n",
       " 229,\n",
       " 233,\n",
       " 239,\n",
       " 241,\n",
       " 251,\n",
       " 257,\n",
       " 263,\n",
       " 269,\n",
       " 271,\n",
       " 277,\n",
       " 281,\n",
       " 283,\n",
       " 293,\n",
       " 307,\n",
       " 311,\n",
       " 313,\n",
       " 317,\n",
       " 331,\n",
       " 337,\n",
       " 347,\n",
       " 349,\n",
       " 353,\n",
       " 359,\n",
       " 367,\n",
       " 373,\n",
       " 379,\n",
       " 383,\n",
       " 389,\n",
       " 397,\n",
       " 401,\n",
       " 409,\n",
       " 419,\n",
       " 421,\n",
       " 431,\n",
       " 433,\n",
       " 439,\n",
       " 443,\n",
       " 449,\n",
       " 457,\n",
       " 461,\n",
       " 463,\n",
       " 467,\n",
       " 479,\n",
       " 487,\n",
       " 491,\n",
       " 499,\n",
       " 503,\n",
       " 509,\n",
       " 521,\n",
       " 523,\n",
       " 541,\n",
       " 547,\n",
       " 557,\n",
       " 563,\n",
       " 569,\n",
       " 571,\n",
       " 577,\n",
       " 587,\n",
       " 593,\n",
       " 599,\n",
       " 601,\n",
       " 607,\n",
       " 613,\n",
       " 617,\n",
       " 619,\n",
       " 631,\n",
       " 641,\n",
       " 643,\n",
       " 647,\n",
       " 653,\n",
       " 659,\n",
       " 661,\n",
       " 673,\n",
       " 677,\n",
       " 683,\n",
       " 691,\n",
       " 701,\n",
       " 709,\n",
       " 719,\n",
       " 727,\n",
       " 733,\n",
       " 739,\n",
       " 743,\n",
       " 751,\n",
       " 757,\n",
       " 761,\n",
       " 769,\n",
       " 773,\n",
       " 787,\n",
       " 797,\n",
       " 809,\n",
       " 811,\n",
       " 821,\n",
       " 823,\n",
       " 827,\n",
       " 829,\n",
       " 839,\n",
       " 853,\n",
       " 857,\n",
       " 859,\n",
       " 863,\n",
       " 877,\n",
       " 881,\n",
       " 883,\n",
       " 887]"
      ]
     },
     "execution_count": 32,
     "metadata": {},
     "output_type": "execute_result"
    }
   ],
   "source": [
    "# 8 points\n",
    "# find all the prime numbers from 2 to  my_total (make sure my_total is an integer)\n",
    "# \n",
    "def find_prime(num):\n",
    "    prime = True\n",
    "    for divisor in np.arange(2, num):\n",
    "        if num % divisor == 0:\n",
    "            prime = False\n",
    "            return False\n",
    "        else:\n",
    "            continue\n",
    "    if prime == True:\n",
    "        return True\n",
    "\n",
    "prime_numbers = []\n",
    "for num in np.arange(2, my_total):\n",
    "    if find_prime(num):\n",
    "        prime_numbers.append(num)\n",
    "\n",
    "prime_numbers"
   ]
  },
  {
   "cell_type": "code",
   "execution_count": 53,
   "metadata": {},
   "outputs": [
    {
     "name": "stdout",
     "output_type": "stream",
     "text": [
      "test_point belongs to class 0\n"
     ]
    }
   ],
   "source": [
    "# 13 points\n",
    "\n",
    "# write a program to implement KNN algorithm to classify data into two classes (class 0 and 1). \n",
    "# You can use Numpy and Python standard libraries only\n",
    "# please use the absolute value to calculate the distance (Manhattan)\n",
    "# harness:\n",
    "# points = {0:[(1,2), (1.1,.5), (1.3,0.7), (1.2, 0.6)], 1:[(7,8), (9,11), (12,8), (13,9), (9,9)]}\n",
    "# test_point = [2,3]\n",
    "\n",
    "### Harness ####\n",
    "#  result = my_knn(points, test_point, k=3)\n",
    "# output : test_point belongs to class 0\n",
    "\n",
    "points = {0:[(1,2), (1.1,.5), (1.3,0.7), (1.2, 0.6)], 1:[(7,8), (9,11), (12,8), (13,9), (9,9)]}\n",
    "test_point = [2,3]\n",
    "\n",
    "def find_distance(pointA, pointB):\n",
    "    return (abs(pointA[0] - pointB[0]) + abs(pointA[1] - pointB[1]))\n",
    "\n",
    "def my_knn(points, test_point, k=3):\n",
    "    points_class_0 = points[0]\n",
    "    points_class_1 = points[1]\n",
    "\n",
    "    distance_class_0 = []\n",
    "    distance_class_1 = []\n",
    "\n",
    "    for point in points_class_0:\n",
    "        distance_class_0.append((\"0\", find_distance(point, test_point)))\n",
    "\n",
    "    for point in points_class_1:\n",
    "        distance_class_1.append((\"1\", find_distance(point, test_point)))\n",
    "\n",
    "    distances = distance_class_0 + distance_class_1\n",
    "    distances.sort(key=lambda x:x[1])\n",
    "\n",
    "    class_0 = []\n",
    "    class_1 = []\n",
    "\n",
    "    for item in distances[0:k]:\n",
    "        if item[0] == \"0\":\n",
    "            class_0.append(item)\n",
    "        else:\n",
    "            class_1.append(item)\n",
    "    \n",
    "    if len(class_0) > len(class_1):\n",
    "        print(\"test_point belongs to class 0\")\n",
    "    else:\n",
    "        print(\"test_point belongs to class 1\")\n",
    "\n",
    "my_knn(points, test_point, k=3)"
   ]
  }
 ],
 "metadata": {
  "kernelspec": {
   "display_name": "Python 3",
   "language": "python",
   "name": "python3"
  },
  "language_info": {
   "codemirror_mode": {
    "name": "ipython",
    "version": 3
   },
   "file_extension": ".py",
   "mimetype": "text/x-python",
   "name": "python",
   "nbconvert_exporter": "python",
   "pygments_lexer": "ipython3",
   "version": "3.11.4"
  }
 },
 "nbformat": 4,
 "nbformat_minor": 4
}
