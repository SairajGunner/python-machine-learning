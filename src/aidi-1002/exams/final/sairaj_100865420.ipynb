{
 "cells": [
  {
   "cell_type": "markdown",
   "metadata": {},
   "source": [
    "###   AIDI-1002 -F23 Final Exam\n",
    "\n",
    "#### Please rename the workbook before submitting to yourname_studentid.ipynb"
   ]
  },
  {
   "cell_type": "code",
   "execution_count": 1,
   "metadata": {},
   "outputs": [],
   "source": [
    "# !!!!! YOU ARE ONLY ALLOWED to USE THE FOLLOWING LIBRARIES !!!!!\n",
    "import numpy as np\n",
    "import pandas as pd\n",
    "from sklearn.tree import DecisionTreeClassifier\n",
    "from sklearn import tree\n",
    "import matplotlib.pyplot as plt"
   ]
  },
  {
   "cell_type": "code",
   "execution_count": 2,
   "metadata": {},
   "outputs": [],
   "source": [
    "# provide your personal information. \n",
    "# IMPORTANT !!!!. Please make sure to provide the correct student_id here\n",
    "name = \"Sairaj Udayshankar\"\n",
    "student_id = \"100865420\" "
   ]
  },
  {
   "cell_type": "code",
   "execution_count": 3,
   "metadata": {},
   "outputs": [
    {
     "data": {
      "text/plain": [
       "'My file number is 6'"
      ]
     },
     "execution_count": 3,
     "metadata": {},
     "output_type": "execute_result"
    }
   ],
   "source": [
    "# run the following statements/commands\n",
    "my_id_char_list = list(student_id)\n",
    "my_id_int_list =  [int(i) for i in my_id_char_list]\n",
    "my_id_total = sum(my_id_int_list)\n",
    "my_label_col = my_id_total % 10\n",
    "f\"My file number is {my_label_col}\""
   ]
  },
  {
   "cell_type": "code",
   "execution_count": 4,
   "metadata": {},
   "outputs": [],
   "source": [
    "# load the csv to a dataframe (df)\n",
    "df = pd.read_csv(\"auto_data_exam.csv\")"
   ]
  },
  {
   "cell_type": "code",
   "execution_count": 5,
   "metadata": {},
   "outputs": [
    {
     "data": {
      "text/plain": [
       "(208, 26)"
      ]
     },
     "execution_count": 5,
     "metadata": {},
     "output_type": "execute_result"
    }
   ],
   "source": [
    "#display the shape\n",
    "# IMPORTANT !!!!. The number of rows in the feature-set which you are going to use for training\n",
    "# should have the same number of rows (208) as follow\n",
    "df.shape"
   ]
  },
  {
   "cell_type": "code",
   "execution_count": 6,
   "metadata": {},
   "outputs": [
    {
     "data": {
      "text/plain": [
       "symboling            object\n",
       "normalized-losses    object\n",
       "make                 object\n",
       "fuel-type            object\n",
       "aspiration           object\n",
       "num-of-doors         object\n",
       "body-style           object\n",
       "drive-wheels         object\n",
       "engine-location      object\n",
       "wheel-base           object\n",
       "length               object\n",
       "width                object\n",
       "height               object\n",
       "curb-weight          object\n",
       "engine-type          object\n",
       "num-of-cylinders     object\n",
       "engine-size          object\n",
       "fuel-system          object\n",
       "bore                 object\n",
       "stroke               object\n",
       "compression-ratio    object\n",
       "horsepower           object\n",
       "peak-rpm             object\n",
       "city-mpg             object\n",
       "highway-mpg          object\n",
       "price                object\n",
       "dtype: object"
      ]
     },
     "execution_count": 6,
     "metadata": {},
     "output_type": "execute_result"
    }
   ],
   "source": [
    "# datatypes\n",
    "df.dtypes"
   ]
  },
  {
   "cell_type": "code",
   "execution_count": 7,
   "metadata": {},
   "outputs": [
    {
     "data": {
      "text/plain": [
       "Index(['symboling', 'normalized-losses', 'make', 'fuel-type', 'aspiration',\n",
       "       'num-of-doors', 'body-style', 'drive-wheels', 'engine-location',\n",
       "       'wheel-base', 'length', 'width', 'height', 'curb-weight', 'engine-type',\n",
       "       'num-of-cylinders', 'engine-size', 'fuel-system', 'bore', 'stroke',\n",
       "       'compression-ratio', 'horsepower', 'peak-rpm', 'city-mpg',\n",
       "       'highway-mpg', 'price'],\n",
       "      dtype='object')"
      ]
     },
     "execution_count": 7,
     "metadata": {},
     "output_type": "execute_result"
    }
   ],
   "source": [
    "# names of columns\n",
    "df.columns"
   ]
  },
  {
   "cell_type": "code",
   "execution_count": 8,
   "metadata": {},
   "outputs": [],
   "source": [
    "# The following features and labels are utilized by the model. DON'T DELETE or MODIFY IT !!!!!!!!\n",
    "\n",
    "label_columns = ['symboling', 'fuel-type','aspiration','num-of-doors','body-style','drive-wheels','engine-location', 'engine-type','num-of-cylinders','fuel-system','length','width','height','make','price']"
   ]
  },
  {
   "cell_type": "code",
   "execution_count": 9,
   "metadata": {},
   "outputs": [
    {
     "name": "stdout",
     "output_type": "stream",
     "text": [
      "engine-location\n"
     ]
    }
   ],
   "source": [
    "# your label column\n",
    "\n",
    "my_label = label_columns[my_label_col]\n",
    "# This is going to be your label\n",
    "print(my_label)"
   ]
  },
  {
   "cell_type": "code",
   "execution_count": 10,
   "metadata": {},
   "outputs": [
    {
     "name": "stdout",
     "output_type": "stream",
     "text": [
      "['num-of-cylinders', 'fuel-system', 'length', 'width', 'height', 'make', 'price']\n"
     ]
    }
   ],
   "source": [
    "# your features. DON'T CHANGE THIS CELL !!!!\n",
    "\n",
    "features = label_columns\n",
    "features.remove(my_label)\n",
    "features = features[7:]\n",
    "# These are the features you are going to use. please drop the rest from dataframe (df) \"\n",
    "print(features)"
   ]
  },
  {
   "cell_type": "markdown",
   "metadata": {},
   "source": [
    "###    Populate the missing values using 'mean' and 'mode' . DON'T drop rows with missing data"
   ]
  },
  {
   "cell_type": "code",
   "execution_count": 11,
   "metadata": {},
   "outputs": [
    {
     "data": {
      "text/html": [
       "<div>\n",
       "<style scoped>\n",
       "    .dataframe tbody tr th:only-of-type {\n",
       "        vertical-align: middle;\n",
       "    }\n",
       "\n",
       "    .dataframe tbody tr th {\n",
       "        vertical-align: top;\n",
       "    }\n",
       "\n",
       "    .dataframe thead th {\n",
       "        text-align: right;\n",
       "    }\n",
       "</style>\n",
       "<table border=\"1\" class=\"dataframe\">\n",
       "  <thead>\n",
       "    <tr style=\"text-align: right;\">\n",
       "      <th></th>\n",
       "      <th>num-of-cylinders</th>\n",
       "      <th>fuel-system</th>\n",
       "      <th>length</th>\n",
       "      <th>width</th>\n",
       "      <th>height</th>\n",
       "      <th>make</th>\n",
       "      <th>price</th>\n",
       "    </tr>\n",
       "  </thead>\n",
       "  <tbody>\n",
       "    <tr>\n",
       "      <th>0</th>\n",
       "      <td>four</td>\n",
       "      <td>mpfi</td>\n",
       "      <td>168.8</td>\n",
       "      <td>64.1</td>\n",
       "      <td>48.8</td>\n",
       "      <td>alfa-romero</td>\n",
       "      <td>13495</td>\n",
       "    </tr>\n",
       "    <tr>\n",
       "      <th>1</th>\n",
       "      <td>four</td>\n",
       "      <td>mpfi</td>\n",
       "      <td>168.8</td>\n",
       "      <td>64.1</td>\n",
       "      <td>48.8</td>\n",
       "      <td>alfa-romero</td>\n",
       "      <td>16500</td>\n",
       "    </tr>\n",
       "    <tr>\n",
       "      <th>2</th>\n",
       "      <td>six</td>\n",
       "      <td>mpfi</td>\n",
       "      <td>171.2</td>\n",
       "      <td>65.5</td>\n",
       "      <td>52.4</td>\n",
       "      <td>alfa-romero</td>\n",
       "      <td>16500</td>\n",
       "    </tr>\n",
       "    <tr>\n",
       "      <th>3</th>\n",
       "      <td>four</td>\n",
       "      <td>mpfi</td>\n",
       "      <td>176.6</td>\n",
       "      <td>66.2</td>\n",
       "      <td>54.3</td>\n",
       "      <td>audi</td>\n",
       "      <td>13950</td>\n",
       "    </tr>\n",
       "    <tr>\n",
       "      <th>4</th>\n",
       "      <td>five</td>\n",
       "      <td>mpfi</td>\n",
       "      <td>176.6</td>\n",
       "      <td>66.4</td>\n",
       "      <td>54.3</td>\n",
       "      <td>audi</td>\n",
       "      <td>17450</td>\n",
       "    </tr>\n",
       "    <tr>\n",
       "      <th>...</th>\n",
       "      <td>...</td>\n",
       "      <td>...</td>\n",
       "      <td>...</td>\n",
       "      <td>...</td>\n",
       "      <td>...</td>\n",
       "      <td>...</td>\n",
       "      <td>...</td>\n",
       "    </tr>\n",
       "    <tr>\n",
       "      <th>203</th>\n",
       "      <td>four</td>\n",
       "      <td>mpfi</td>\n",
       "      <td>188.8</td>\n",
       "      <td>68.9</td>\n",
       "      <td>55.5</td>\n",
       "      <td>volvo</td>\n",
       "      <td>16845</td>\n",
       "    </tr>\n",
       "    <tr>\n",
       "      <th>204</th>\n",
       "      <td>four</td>\n",
       "      <td>mpfi</td>\n",
       "      <td>188.8</td>\n",
       "      <td>68.8</td>\n",
       "      <td>55.5</td>\n",
       "      <td>volvo</td>\n",
       "      <td>19045</td>\n",
       "    </tr>\n",
       "    <tr>\n",
       "      <th>205</th>\n",
       "      <td>six</td>\n",
       "      <td>mpfi</td>\n",
       "      <td>188.8</td>\n",
       "      <td>68.9</td>\n",
       "      <td>55.5</td>\n",
       "      <td>volvo</td>\n",
       "      <td>21485</td>\n",
       "    </tr>\n",
       "    <tr>\n",
       "      <th>206</th>\n",
       "      <td>six</td>\n",
       "      <td>idi</td>\n",
       "      <td>188.8</td>\n",
       "      <td>68.9</td>\n",
       "      <td>55.5</td>\n",
       "      <td>volvo</td>\n",
       "      <td>22470</td>\n",
       "    </tr>\n",
       "    <tr>\n",
       "      <th>207</th>\n",
       "      <td>four</td>\n",
       "      <td>mpfi</td>\n",
       "      <td>188.8</td>\n",
       "      <td>68.9</td>\n",
       "      <td>55.5</td>\n",
       "      <td>volvo</td>\n",
       "      <td>22625</td>\n",
       "    </tr>\n",
       "  </tbody>\n",
       "</table>\n",
       "<p>208 rows × 7 columns</p>\n",
       "</div>"
      ],
      "text/plain": [
       "    num-of-cylinders fuel-system length width height         make  price\n",
       "0               four        mpfi  168.8  64.1   48.8  alfa-romero  13495\n",
       "1               four        mpfi  168.8  64.1   48.8  alfa-romero  16500\n",
       "2                six        mpfi  171.2  65.5   52.4  alfa-romero  16500\n",
       "3               four        mpfi  176.6  66.2   54.3         audi  13950\n",
       "4               five        mpfi  176.6  66.4   54.3         audi  17450\n",
       "..               ...         ...    ...   ...    ...          ...    ...\n",
       "203             four        mpfi  188.8  68.9   55.5        volvo  16845\n",
       "204             four        mpfi  188.8  68.8   55.5        volvo  19045\n",
       "205              six        mpfi  188.8  68.9   55.5        volvo  21485\n",
       "206              six         idi  188.8  68.9   55.5        volvo  22470\n",
       "207             four        mpfi  188.8  68.9   55.5        volvo  22625\n",
       "\n",
       "[208 rows x 7 columns]"
      ]
     },
     "execution_count": 11,
     "metadata": {},
     "output_type": "execute_result"
    }
   ],
   "source": [
    "df[features]"
   ]
  },
  {
   "cell_type": "code",
   "execution_count": 12,
   "metadata": {},
   "outputs": [],
   "source": [
    "df[features]=df[features].replace('?', None)"
   ]
  },
  {
   "cell_type": "code",
   "execution_count": 13,
   "metadata": {},
   "outputs": [],
   "source": [
    "df[features]=df[features].replace('#', None)"
   ]
  },
  {
   "cell_type": "code",
   "execution_count": 14,
   "metadata": {},
   "outputs": [],
   "source": [
    "df[features]=df[features].replace('_', None)"
   ]
  },
  {
   "cell_type": "code",
   "execution_count": 15,
   "metadata": {},
   "outputs": [],
   "source": [
    "# Replace all missing values in non-numerical columns with 'mode'  \n",
    "for column in ['num-of-cylinders', 'fuel-system', 'make']:\n",
    "    df[column] = df[column].fillna(df[column].mode()[0])"
   ]
  },
  {
   "cell_type": "code",
   "execution_count": 16,
   "metadata": {},
   "outputs": [
    {
     "data": {
      "text/plain": [
       "symboling            object\n",
       "normalized-losses    object\n",
       "make                 object\n",
       "fuel-type            object\n",
       "aspiration           object\n",
       "num-of-doors         object\n",
       "body-style           object\n",
       "drive-wheels         object\n",
       "engine-location      object\n",
       "wheel-base           object\n",
       "length               object\n",
       "width                object\n",
       "height               object\n",
       "curb-weight          object\n",
       "engine-type          object\n",
       "num-of-cylinders     object\n",
       "engine-size          object\n",
       "fuel-system          object\n",
       "bore                 object\n",
       "stroke               object\n",
       "compression-ratio    object\n",
       "horsepower           object\n",
       "peak-rpm             object\n",
       "city-mpg             object\n",
       "highway-mpg          object\n",
       "price                object\n",
       "dtype: object"
      ]
     },
     "execution_count": 16,
     "metadata": {},
     "output_type": "execute_result"
    }
   ],
   "source": [
    "df.dtypes"
   ]
  },
  {
   "cell_type": "code",
   "execution_count": 17,
   "metadata": {},
   "outputs": [],
   "source": [
    "for column in ['length', 'width', 'height', 'price']:\n",
    "    df[column] = pd.to_numeric(df[column])"
   ]
  },
  {
   "cell_type": "code",
   "execution_count": 18,
   "metadata": {},
   "outputs": [
    {
     "data": {
      "text/plain": [
       "symboling             object\n",
       "normalized-losses     object\n",
       "make                  object\n",
       "fuel-type             object\n",
       "aspiration            object\n",
       "num-of-doors          object\n",
       "body-style            object\n",
       "drive-wheels          object\n",
       "engine-location       object\n",
       "wheel-base            object\n",
       "length               float64\n",
       "width                float64\n",
       "height               float64\n",
       "curb-weight           object\n",
       "engine-type           object\n",
       "num-of-cylinders      object\n",
       "engine-size           object\n",
       "fuel-system           object\n",
       "bore                  object\n",
       "stroke                object\n",
       "compression-ratio     object\n",
       "horsepower            object\n",
       "peak-rpm              object\n",
       "city-mpg              object\n",
       "highway-mpg           object\n",
       "price                float64\n",
       "dtype: object"
      ]
     },
     "execution_count": 18,
     "metadata": {},
     "output_type": "execute_result"
    }
   ],
   "source": [
    "df.dtypes"
   ]
  },
  {
   "cell_type": "code",
   "execution_count": 19,
   "metadata": {},
   "outputs": [
    {
     "data": {
      "text/plain": [
       "0      168.8\n",
       "1      168.8\n",
       "2      171.2\n",
       "3      176.6\n",
       "4      176.6\n",
       "       ...  \n",
       "203    188.8\n",
       "204    188.8\n",
       "205    188.8\n",
       "206    188.8\n",
       "207    188.8\n",
       "Name: length, Length: 208, dtype: float64"
      ]
     },
     "execution_count": 19,
     "metadata": {},
     "output_type": "execute_result"
    }
   ],
   "source": [
    "df['length'].fillna(df['length'].mean())"
   ]
  },
  {
   "cell_type": "code",
   "execution_count": 20,
   "metadata": {},
   "outputs": [],
   "source": [
    "# Replace all missing values in numerical columns with 'mean' value \n",
    "for column in ['length', 'width', 'height', 'price']:\n",
    "    df[column] = df[column].fillna(df[column].mean())"
   ]
  },
  {
   "cell_type": "code",
   "execution_count": 21,
   "metadata": {},
   "outputs": [
    {
     "data": {
      "text/plain": [
       "array(['alfa-romero', 'audi', 'bmw', 'chevrolet', 'dodge', 'honda',\n",
       "       'isuzu', 'jaguar', 'mazda', 'toyota', 'mercedes-benz', 'mercury',\n",
       "       'mitsubishi', 'nissan', 'peugot', 'plymouth', 'porsche', 'renault',\n",
       "       'saab', 'subaru', 'volkswagen', 'volvo'], dtype=object)"
      ]
     },
     "execution_count": 21,
     "metadata": {},
     "output_type": "execute_result"
    }
   ],
   "source": [
    "df.make.unique()"
   ]
  },
  {
   "cell_type": "code",
   "execution_count": 23,
   "metadata": {},
   "outputs": [],
   "source": [
    "# If the column name 'make' is in your feature list, please assign numerical \n",
    "# values to each car make name in the following way\n",
    "# 'alfa-romero': 0.0, 'audi': 0.1, 'bmw': 0.2, ...... and so on\n",
    "df['make'] = df['make'].replace(['alfa-romero', 'audi', 'bmw', 'chevrolet', 'dodge', 'honda',\n",
    "       'isuzu', 'jaguar', 'mazda', 'toyota', 'mercedes-benz', 'mercury',\n",
    "       'mitsubishi', 'nissan', 'peugot', 'plymouth', 'porsche', 'renault',\n",
    "       'saab', 'subaru', 'volkswagen', 'volvo'], [0.0, 0.1, 0.2, 0.3, 0.4, 0.5, 0.6, 0.7, 0.8, 0.9, 1.0, 1.1, 1.2, 1.3, 1.4, 1.5, 1.6, 1.7, 1.8, 1.9, 2.0, 2.1])"
   ]
  },
  {
   "cell_type": "code",
   "execution_count": 24,
   "metadata": {},
   "outputs": [
    {
     "data": {
      "text/plain": [
       "0      0.0\n",
       "1      0.0\n",
       "2      0.0\n",
       "3      0.1\n",
       "4      0.1\n",
       "      ... \n",
       "203    2.1\n",
       "204    2.1\n",
       "205    2.1\n",
       "206    2.1\n",
       "207    2.1\n",
       "Name: make, Length: 208, dtype: float64"
      ]
     },
     "execution_count": 24,
     "metadata": {},
     "output_type": "execute_result"
    }
   ],
   "source": [
    "df['make']"
   ]
  },
  {
   "cell_type": "code",
   "execution_count": 46,
   "metadata": {},
   "outputs": [
    {
     "data": {
      "text/plain": [
       "dtype('int64')"
      ]
     },
     "execution_count": 46,
     "metadata": {},
     "output_type": "execute_result"
    }
   ],
   "source": [
    "df['fuel-system'].dtype"
   ]
  },
  {
   "cell_type": "code",
   "execution_count": 40,
   "metadata": {},
   "outputs": [],
   "source": [
    "# convert rest of the non-numerical features to one-hot-vectors  or numerical values of your choice\n",
    "# If your target/label is not numerical, you can do the same with your label (One hot Encoding or Numerical mapping)\n",
    "# Here, YOU ARE NOT ALLOWED TO USED any methods such as getDummies, LabelEncoder, OneHotEncoder, OrdinalEncoder, SimpleImputer or any other method/tool\n",
    "\n",
    "# 'num-of-cylinders', 'fuel-system', 'make'\n",
    "df['num-of-cylinders'] = df['num-of-cylinders'].replace(['four', 'six', 'five', 'three', 'twelve', 'two', 'eight'], [0, 1, 2, 3, 4, 5, 6])\n",
    "df['fuel-system'] = df['fuel-system'].replace(['mpfi', '2bbl', 'mfi', '1bbl', 'spfi', '4bbl', 'idi', 'spdi'], [0, 1, 2, 3, 4, 5, 6, 7])"
   ]
  },
  {
   "cell_type": "code",
   "execution_count": 41,
   "metadata": {},
   "outputs": [
    {
     "data": {
      "text/plain": [
       "(208, 26)"
      ]
     },
     "execution_count": 41,
     "metadata": {},
     "output_type": "execute_result"
    }
   ],
   "source": [
    "# print the shape of the features set. The number of rows here should match the original size of the dataset (208 records)\n",
    "# If the number of rows don't match, please fix that before moving further\n",
    "df.shape"
   ]
  },
  {
   "cell_type": "code",
   "execution_count": 42,
   "metadata": {},
   "outputs": [
    {
     "data": {
      "text/plain": [
       "['num-of-cylinders',\n",
       " 'fuel-system',\n",
       " 'length',\n",
       " 'width',\n",
       " 'height',\n",
       " 'make',\n",
       " 'price']"
      ]
     },
     "execution_count": 42,
     "metadata": {},
     "output_type": "execute_result"
    }
   ],
   "source": [
    "features"
   ]
  },
  {
   "cell_type": "code",
   "execution_count": 53,
   "metadata": {},
   "outputs": [],
   "source": [
    "# assign prepared numerical data to following variables\n",
    "\n",
    "#X = prepared_features\n",
    "#y = prepared_labels\n",
    "\n",
    "X = df[['num-of-cylinders', 'fuel-system', 'length', 'width', 'height', 'price']]\n",
    "y = df[['engine-location']]"
   ]
  },
  {
   "cell_type": "code",
   "execution_count": 54,
   "metadata": {},
   "outputs": [],
   "source": [
    "# create a DecisionTreeClassifier\n",
    "clf = DecisionTreeClassifier().fit(X,y) # you may need to adjust some parameters here"
   ]
  },
  {
   "cell_type": "code",
   "execution_count": 55,
   "metadata": {},
   "outputs": [
    {
     "data": {
      "text/plain": [
       "0.9903846153846154"
      ]
     },
     "execution_count": 55,
     "metadata": {},
     "output_type": "execute_result"
    }
   ],
   "source": [
    "# Calculate the accuracy of your model. The performance (accuracy) of the model is NOT a factor for better marks\n",
    "clf.score(X,y)"
   ]
  },
  {
   "cell_type": "code",
   "execution_count": 56,
   "metadata": {},
   "outputs": [
    {
     "data": {
      "image/png": "[encoded data removed]",
      "text/plain": [
       "<Figure size 1200x1200 with 1 Axes>"
      ]
     },
     "metadata": {},
     "output_type": "display_data"
    }
   ],
   "source": [
    "# Run the following code and explain the content in the root node (very top node)\n",
    "\n",
    "plt.figure(figsize=(12,12))  # set plot size (denoted in inches)\n",
    "tree.plot_tree(clf, fontsize=10)\n",
    "plt.show()"
   ]
  },
  {
   "cell_type": "code",
   "execution_count": null,
   "metadata": {},
   "outputs": [],
   "source": []
  }
 ],
 "metadata": {
  "kernelspec": {
   "display_name": "datascience",
   "language": "python",
   "name": "python3"
  },
  "language_info": {
   "codemirror_mode": {
    "name": "ipython",
    "version": 3
   },
   "file_extension": ".py",
   "mimetype": "text/x-python",
   "name": "python",
   "nbconvert_exporter": "python",
   "pygments_lexer": "ipython3",
   "version": "3.11.6"
  },
  "orig_nbformat": 4
 },
 "nbformat": 4,
 "nbformat_minor": 2
}
